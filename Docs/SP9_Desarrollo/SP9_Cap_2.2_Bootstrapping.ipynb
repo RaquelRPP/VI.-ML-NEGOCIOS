{
 "cells": [
  {
   "attachments": {},
   "cell_type": "markdown",
   "metadata": {},
   "source": [
    "# 3.1 Bootstrapping para el intervalo de confianza\n",
    "\n",
    "Formar submuestras aleatorias con reemplazo"
   ]
  },
  {
   "cell_type": "code",
   "execution_count": 3,
   "metadata": {},
   "outputs": [],
   "source": [
    "import pandas as pd\n",
    "import numpy as np\n"
   ]
  },
  {
   "cell_type": "code",
   "execution_count": 4,
   "metadata": {},
   "outputs": [
    {
     "name": "stdout",
     "output_type": "stream",
     "text": [
      "69    13.68\n",
      "dtype: float64\n",
      "69    13.68\n",
      "dtype: float64\n",
      "69    13.68\n",
      "dtype: float64\n",
      "69    13.68\n",
      "dtype: float64\n",
      "69    13.68\n",
      "dtype: float64\n"
     ]
    }
   ],
   "source": [
    "data = pd.Series([\n",
    "    10.7,  9.58,  7.74,  8.3 , 11.82,  9.74, 10.18,  8.43,  8.71,\n",
    "     6.84,  9.26, 11.61, 11.08,  8.94,  8.44, 10.41,  9.36, 10.85,\n",
    "    10.41,  8.37,  8.99, 10.17,  7.78, 10.79, 10.61, 10.87,  7.43,\n",
    "     8.44,  9.44,  8.26,  7.98, 11.27, 11.61,  9.84, 12.47,  7.8,\n",
    "    10.54,  8.99,  7.33,  8.55,  8.06, 10.62, 10.41,  9.29,  9.98,\n",
    "     9.46,  9.99,  8.62, 11.34, 11.21, 15.19, 20.85, 19.15, 19.01,\n",
    "    15.24, 16.66, 17.62, 18.22, 17.2, 15.76, 16.89, 15.22, 18.7,\n",
    "    14.84, 14.88, 19.41, 18.54, 17.85, 18.31, 13.68, 18.46, 13.99,\n",
    "    16.38, 16.88, 17.82, 15.17, 15.16, 18.15, 15.08, 15.91, 16.82,\n",
    "    16.85, 18.04, 17.51, 18.44, 15.33, 16.07, 17.22, 15.9, 18.03,\n",
    "    17.26, 17.6, 16.77, 17.45, 13.73, 14.95, 15.57, 19.19, 14.39,\n",
    "    15.76]) \n",
    "\n",
    "\n",
    "for i in range(5):\n",
    "    # extrae un elemento aleatorio de la muestra 1\n",
    "    # especifica random_state para su reproducción\n",
    "    print(data.sample(1, random_state=12345)) "
   ]
  },
  {
   "attachments": {},
   "cell_type": "markdown",
   "metadata": {},
   "source": [
    "Como especificamos el random_state, el elemento aleatorio es siempre el mismo. Para solucionarlo:\n",
    "-  crea una instancia RandomState() del módulo numpy.random:\n",
    "-  se pasa al argumento random_state de cualquier función.\n",
    "-  selección de elementos con reemplazo\n",
    "\n",
    "Es importante que con cada nueva llamada, su estado cambie a aleatorio para obtener diferentes submuestra."
   ]
  },
  {
   "cell_type": "code",
   "execution_count": 5,
   "metadata": {},
   "outputs": [],
   "source": [
    "from numpy.random import RandomState\n",
    "\n",
    "state = RandomState(12345) #instancia con Random_State de numpy.random"
   ]
  },
  {
   "cell_type": "code",
   "execution_count": 6,
   "metadata": {},
   "outputs": [
    {
     "name": "stdout",
     "output_type": "stream",
     "text": [
      "69    13.68\n",
      "dtype: float64\n",
      "27    8.44\n",
      "dtype: float64\n",
      "36    10.54\n",
      "dtype: float64\n",
      "84    18.44\n",
      "dtype: float64\n",
      "59    15.76\n",
      "dtype: float64\n"
     ]
    }
   ],
   "source": [
    "for i in range(5):\n",
    "    # extrae un elemento aleatorio de la muestra 1 con reemplazo\n",
    "    print(data.sample(1,  random_state=state)) "
   ]
  },
  {
   "cell_type": "code",
   "execution_count": 7,
   "metadata": {},
   "outputs": [
    {
     "name": "stdout",
     "output_type": "stream",
     "text": [
      "Sin reemplazo\n",
      "2    3\n",
      "0    1\n",
      "3    4\n",
      "1    2\n",
      "4    5\n",
      "dtype: int64\n",
      "Con reemplazo\n",
      "0    1\n",
      "1    2\n",
      "1    2\n",
      "3    4\n",
      "1    2\n",
      "dtype: int64\n"
     ]
    }
   ],
   "source": [
    "example_data = pd.Series([1, 2, 3, 4, 5])\n",
    "print('Sin reemplazo')\n",
    "print(example_data.sample(frac=1, replace=False, random_state=state))\n",
    "print('Con reemplazo')\n",
    "print(example_data.sample(frac=1, replace=True, random_state=state)) "
   ]
  },
  {
   "attachments": {},
   "cell_type": "markdown",
   "metadata": {},
   "source": [
    "1.\n",
    "Utilizando la técnica del bootstrapping, \n",
    "- crea 10 submuestras \n",
    "- un cuantil del 99 % para cada una de ellas. \n",
    "\n",
    "Imprímelas en la pantalla utilizando el string break.\n",
    "Comprueba la función quantile() para las instancias pandas.Series."
   ]
  },
  {
   "cell_type": "code",
   "execution_count": 8,
   "metadata": {},
   "outputs": [
    {
     "name": "stdout",
     "output_type": "stream",
     "text": [
      "19.192200000000003\n",
      "20.85\n",
      "19.20660000000001\n",
      "19.028400000000012\n",
      "19.42440000000001\n",
      "19.42440000000001\n",
      "20.85\n",
      "19.42440000000001\n",
      "19.42440000000001\n",
      "19.19\n"
     ]
    }
   ],
   "source": [
    "import pandas as pd\n",
    "import numpy as np\n",
    "\n",
    "data = pd.Series([\n",
    "    10.7 ,  9.58,  7.74,  8.3 , 11.82,  9.74, 10.18,  8.43,  8.71,\n",
    "     6.84,  9.26, 11.61, 11.08,  8.94,  8.44, 10.41,  9.36, 10.85,\n",
    "    10.41,  8.37,  8.99, 10.17,  7.78, 10.79, 10.61, 10.87,  7.43,\n",
    "     8.44,  9.44,  8.26,  7.98, 11.27, 11.61,  9.84, 12.47,  7.8 ,\n",
    "    10.54,  8.99,  7.33,  8.55,  8.06, 10.62, 10.41,  9.29,  9.98,\n",
    "     9.46,  9.99,  8.62, 11.34, 11.21, 15.19, 20.85, 19.15, 19.01,\n",
    "    15.24, 16.66, 17.62, 18.22, 17.2 , 15.76, 16.89, 15.22, 18.7 ,\n",
    "    14.84, 14.88, 19.41, 18.54, 17.85, 18.31, 13.68, 18.46, 13.99,\n",
    "    16.38, 16.88, 17.82, 15.17, 15.16, 18.15, 15.08, 15.91, 16.82,\n",
    "    16.85, 18.04, 17.51, 18.44, 15.33, 16.07, 17.22, 15.9 , 18.03,\n",
    "    17.26, 17.6 , 16.77, 17.45, 13.73, 14.95, 15.57, 19.19, 14.39,\n",
    "    15.76])\n",
    "\n",
    "state = np.random.RandomState(12345)\n",
    "\n",
    "for i in range(10):\n",
    "    subsample = data.sample(frac=1,replace=True,random_state=state)\n",
    "    print(subsample.quantile(0.99))"
   ]
  },
  {
   "attachments": {},
   "cell_type": "markdown",
   "metadata": {},
   "source": [
    "2.\n",
    "Utilizando la técnica del bootstrapping:\n",
    "- encuentra el intervalo de confianza del 90 % para el cuantil del 99 %. \n",
    "- Guarda su valor más bajo en la variable lower, y el valor más alto en la variable upper.\n",
    "- Imprímelos (en el precódigo).\n",
    "- Llama a la función quantile() dos veces: \n",
    "    - primero, para obtener el cuantil del 99 % de cada submuestra, \n",
    "    - y luego, para obtener el intervalo de confianza."
   ]
  },
  {
   "cell_type": "code",
   "execution_count": 10,
   "metadata": {},
   "outputs": [
    {
     "name": "stdout",
     "output_type": "stream",
     "text": [
      "18.7031\n",
      "18.7031\n"
     ]
    }
   ],
   "source": [
    "import pandas as pd\n",
    "import numpy as np\n",
    "\n",
    "data = pd.Series([\n",
    "    10.7 ,  9.58,  7.74,  8.3 , 11.82,  9.74, 10.18,  8.43,  8.71,\n",
    "     6.84,  9.26, 11.61, 11.08,  8.94,  8.44, 10.41,  9.36, 10.85,\n",
    "    10.41,  8.37,  8.99, 10.17,  7.78, 10.79, 10.61, 10.87,  7.43,\n",
    "     8.44,  9.44,  8.26,  7.98, 11.27, 11.61,  9.84, 12.47,  7.8 ,\n",
    "    10.54,  8.99,  7.33,  8.55,  8.06, 10.62, 10.41,  9.29,  9.98,\n",
    "     9.46,  9.99,  8.62, 11.34, 11.21, 15.19, 20.85, 19.15, 19.01,\n",
    "    15.24, 16.66, 17.62, 18.22, 17.2 , 15.76, 16.89, 15.22, 18.7 ,\n",
    "    14.84, 14.88, 19.41, 18.54, 17.85, 18.31, 13.68, 18.46, 13.99,\n",
    "    16.38, 16.88, 17.82, 15.17, 15.16, 18.15, 15.08, 15.91, 16.82,\n",
    "    16.85, 18.04, 17.51, 18.44, 15.33, 16.07, 17.22, 15.9 , 18.03,\n",
    "    17.26, 17.6 , 16.77, 17.45, 13.73, 14.95, 15.57, 19.19, 14.39,\n",
    "    15.76])\n",
    "\n",
    "state = np.random.RandomState(12345)\n",
    "\n",
    "# Se obtiene el cuantil 99% para cada submuestra\n",
    "\n",
    "for i in range(1000):  # Guarda los valores del cuantil del 99 % en la variable de valores\n",
    "    values = []   \n",
    "    subsample = data.sample(frac=1, replace=True, random_state=state)\n",
    "    values.append(subsample.quantile(0.99))\n",
    "\n",
    "values=pd.Series(values)\n",
    "\n",
    "#Se obtiene el intervalo de confianza\n",
    "lower =values.quantile(0.05) #cuantil del 99\n",
    "upper =values.quantile(.95)\n",
    "\n",
    "print(lower)\n",
    "print(upper)"
   ]
  },
  {
   "attachments": {},
   "cell_type": "markdown",
   "metadata": {},
   "source": [
    "# 3.2 Bootstrapping para el análisis de pruebas A/B\n",
    "\n"
   ]
  },
  {
   "attachments": {},
   "cell_type": "markdown",
   "metadata": {},
   "source": [
    "- Analiza las dos muestras y comprueba la hipótesis que dice que el importe promedio de compra ha aumentado. \n",
    "- Guarda la diferencia entre los importes promedio de compra en la variable AB_difference \n",
    "- Asigna un nivel de significación del 5 % (.05) a la variable alpha. \n",
    "- Guarda el valor p en la variable pvalue e imprímelo. \n",
    "- Imprime el resultado de la prueba de hipótesis."
   ]
  },
  {
   "cell_type": "code",
   "execution_count": 16,
   "metadata": {},
   "outputs": [
    {
     "name": "stdout",
     "output_type": "stream",
     "text": [
      "Diferencia entre los importes promedios de compra: 0.7682000000000357\n",
      "p-value = 0.029\n",
      "La hipótesis nula se rechaza, a saber, es probable que el importe promedio de las compras aumente\n"
     ]
    }
   ],
   "source": [
    "import pandas as pd\n",
    "import numpy as np\n",
    "from scipy import stats as st\n",
    "\n",
    "# datos del grupo de control A\n",
    "samples_A = pd.Series([\n",
    "     98.24,  97.77,  95.56,  99.49, 101.4 , 105.35,  95.83,  93.02,\n",
    "    101.37,  95.66,  98.34, 100.75, 104.93,  97.  ,  95.46, 100.03,\n",
    "    102.34,  98.23,  97.05,  97.76,  98.63,  98.82,  99.51,  99.31,\n",
    "     98.58,  96.84,  93.71, 101.38, 100.6 , 103.68, 104.78, 101.51,\n",
    "    100.89, 102.27,  99.87,  94.83,  95.95, 105.2 ,  97.  ,  95.54,\n",
    "     98.38,  99.81, 103.34, 101.14, 102.19,  94.77,  94.74,  99.56,\n",
    "    102.  , 100.95, 102.19, 103.75, 103.65,  95.07, 103.53, 100.42,\n",
    "     98.09,  94.86, 101.47, 103.07, 100.15, 100.32, 100.89, 101.23,\n",
    "     95.95, 103.69, 100.09,  96.28,  96.11,  97.63,  99.45, 100.81,\n",
    "    102.18,  94.92,  98.89, 101.48, 101.29,  94.43, 101.55,  95.85,\n",
    "    100.16,  97.49, 105.17, 104.83, 101.9 , 100.56, 104.91,  94.17,\n",
    "    103.48, 100.55, 102.66, 100.62,  96.93, 102.67, 101.27,  98.56,\n",
    "    102.41, 100.69,  99.67, 100.99])\n",
    "\n",
    "# datos del grupo experimental B\n",
    "samples_B = pd.Series([\n",
    "    101.67, 102.27,  97.01, 103.46, 100.76, 101.19,  99.11,  97.59,\n",
    "    101.01, 101.45,  94.8 , 101.55,  96.38,  99.03, 102.83,  97.32,\n",
    "     98.25,  97.17, 101.1 , 102.57, 104.59, 105.63,  98.93, 103.87,\n",
    "     98.48, 101.14, 102.24,  98.55, 105.61, 100.06,  99.  , 102.53,\n",
    "    101.56, 102.68, 103.26,  96.62,  99.48, 107.6 ,  99.87, 103.58,\n",
    "    105.05, 105.69,  94.52,  99.51,  99.81,  99.44,  97.35, 102.97,\n",
    "     99.77,  99.59, 102.12, 104.29,  98.31,  98.83,  96.83,  99.2 ,\n",
    "     97.88, 102.34, 102.04,  99.88,  99.69, 103.43, 100.71,  92.71,\n",
    "     99.99,  99.39,  99.19,  99.29, 100.34, 101.08, 100.29,  93.83,\n",
    "    103.63,  98.88, 105.36, 101.82, 100.86, 100.75,  99.4 ,  95.37,\n",
    "    107.96,  97.69, 102.17,  99.41,  98.97,  97.96,  98.31,  97.09,\n",
    "    103.92, 100.98, 102.76,  98.24,  97.  ,  98.99, 103.54,  99.72,\n",
    "    101.62, 100.62, 102.79, 104.19])\n",
    "\n",
    "# diferencia real entre las medias de los grupos\n",
    "AB_difference = samples_B.mean()-samples_A.mean()\n",
    "print(\"Diferencia entre los importes promedios de compra:\", AB_difference)\n",
    "\n",
    "alpha = .05\n",
    "    \n",
    "bootstrap_samples = 1000\n",
    "count = 0\n",
    "for i in range(bootstrap_samples):\n",
    "    # concatena las muestras\n",
    "    united_samples = pd.concat([samples_A,samples_B])\n",
    "\n",
    "    # crea una submuestra\n",
    "    subsample = united_samples.sample(frac=1, replace=True, random_state= state)\n",
    "    \n",
    "    # divide la submuestra por la mitad\n",
    "    subsample_A = subsample[:len(samples_A)]\n",
    "    subsample_B = subsample[len(samples_B):]\n",
    "\n",
    "    # encuentra la diferencia entre las medias\n",
    "    bootstrap_difference = subsample_B.mean() - subsample_A.mean()\n",
    "    \n",
    "    # si la diferencia no es menor que la diferencia real, añade \"1\" al contador\n",
    "    if bootstrap_difference >= AB_difference:\n",
    "        count += 1\n",
    "\n",
    "# el valor p es igual al porcentaje de valores excedentes\n",
    "pvalue = 1. * count / bootstrap_samples\n",
    "print('p-value =', pvalue)\n",
    "\n",
    "if pvalue < alpha:\n",
    "    print(\"La hipótesis nula se rechaza, a saber, es probable que el importe promedio de las compras aumente\")\n",
    "else:\n",
    "    print(\"La hipótesis nula no se rechaza, a saber, es poco probable que el importe medio de las compras aumente\")\n",
    "    "
   ]
  },
  {
   "attachments": {
    "image.png": {
     "image/png": "[encoded data removed]"
    }
   },
   "cell_type": "markdown",
   "metadata": {},
   "source": [
    "![image.png](attachment:image.png)"
   ]
  },
  {
   "attachments": {},
   "cell_type": "markdown",
   "metadata": {},
   "source": [
    "# Bootstrapping para modelos\n",
    "\n",
    " bootstrapping para evaluar los intervalos de confianza en los modelos de ML."
   ]
  },
  {
   "attachments": {},
   "cell_type": "markdown",
   "metadata": {},
   "source": [
    "Channel Tunnel es una escuela de francés que ofrece clases exprés de francés a un precio razonable. Está en el proceso de desarrollo de un modelo que determine la probabilidad de que un alumno asista o no a una clase. Diariamente se reciben muchas solicitudes. La prioridad se asigna por orden de solicitud, o sea, la primera en llegar, será la primera en ser atendida. Aproximadamente la mitad de quienes solicitan una clase, no se presentan y no la pagan. La dirección de la escuela ha decidido impartir clases solo a estudiantes con mayor probabilidad de asistir a clase. Debido a los posibles riesgos para su reputación, la empresa introducirá el nuevo sistema únicamente a condición de que se demuestre el aumento de los ingresos. \n",
    "\n",
    "Para tomar la decisión correcta, hay que evaluar la distribución de probabilidad de los ingresos.\n",
    "Aquí tienes las condiciones importantes para la tarea:\n",
    "\n",
    "- El modelo de predicción de la probabilidad de asistencia a clase ya está entrenado. \n",
    "- Las predicciones se encuentran en el archivo eng_probabilities.csv, y las respuestas correctas en eng_target.csv.\n",
    "- El coste de una lección es de 10 dólares. Se pueden programar hasta 10 lecciones por día.\n",
    "- Los ingresos diarios actuales ascienden a 50 dólares (la mitad de los estudiantes cancelan la lección).\n",
    "- La media diaria de solicitudes recibidas es de 25.\n",
    "- Los ingresos objetivo para la implementación del nuevo sistema son de 75 dólares. \n",
    "- Su probabilidad debe ser de al menos el 99 %"
   ]
  },
  {
   "attachments": {},
   "cell_type": "markdown",
   "metadata": {},
   "source": [
    "\n",
    "1.\n",
    "Escribe la función revenue() que calcula y devuelve el valor de los ingresos.\n",
    "- Esta función utiliza:\n",
    "                - la lista de respuestas (target): si el estudiante asistirá a la clase\n",
    "\n",
    "                - la lista de probabilidades (probabilities): el modelo evalúa si el estudiante asistirá o no\n",
    "                \n",
    "                - el número de estudiantes que asisten a las clases por día (count).\n",
    "\n",
    "La función debe seleccionar a los estudiantes con mayor probabilidad de asistir a clase y, basándose en las respuestas, calcular los posibles ingresos. Ten en cuenta que la función toma series de datos así que no es necesario utilizar ningún dataset para esta tarea.\n",
    "\n",
    "En el precódigo tenemos un ejemplo de ejecución de la función en el que las listas de respuestas y probabilidades son cortas y el número de estudiantes es solo de 3."
   ]
  },
  {
   "cell_type": "code",
   "execution_count": 17,
   "metadata": {},
   "outputs": [
    {
     "name": "stdout",
     "output_type": "stream",
     "text": [
      "20\n"
     ]
    }
   ],
   "source": [
    "import pandas as pd\n",
    "\n",
    "# lista de respuestas (target): si el estudiante asistirá a la clase\n",
    "# lista de probabilidades (probabilities): el modelo evalúa si el estudiante asistirá o no\n",
    "# número de estudiantes que asisten a las clases por día (count).\n",
    "\n",
    "def revenue(target, probabilities, count):\n",
    "    probs_sorted = probabilities.sort_values(ascending=False) \n",
    "    selected = target[probs_sorted.index][:count] \n",
    "    return 10 * selected.sum()\n",
    "    \n",
    "#En el precódigo tenemos un ejemplo de ejecución de la función \n",
    "# en el que las listas de respuestas y probabilidades son cortas y \n",
    "# el número de estudiantes es solo de 3.\n",
    "\n",
    "target = pd.Series([1,   1,   0,   0,  1,    0])\n",
    "probab = pd.Series([0.2, 0.9, 0.8, 0.3, 0.5, 0.1])\n",
    "\n",
    "res = revenue(target, probab, 3) # 3 estudiantes\n",
    "\n",
    "print(res)"
   ]
  },
  {
   "attachments": {},
   "cell_type": "markdown",
   "metadata": {},
   "source": [
    "2.\n",
    "Para encontrar el cuantil de ingresos del 1 %, realiza el proceso de bootstrapping con 1000 repeticiones.\n",
    "Guarda la lista de estimaciones del bootstrapping en la variable values y el cuantil del 1 % en la variable lower. Imprime los ingresos promedio y el cuantil del 1 % (en precódigo)"
   ]
  },
  {
   "cell_type": "code",
   "execution_count": 23,
   "metadata": {},
   "outputs": [
    {
     "name": "stdout",
     "output_type": "stream",
     "text": [
      "Ingresos promedio: 91.67\n",
      "Cuantil del 1 %: 60.0\n"
     ]
    }
   ],
   "source": [
    "import pandas as pd\n",
    "import numpy as np\n",
    "\n",
    "# Abre los archivos\n",
    "# toma el índice “0” para convertir los datos a pd-Series\n",
    "target = pd.read_csv('datasets/eng_target.csv')['0']\n",
    "probabilities = pd.read_csv('datasets/eng_probabilites.csv')['0']\n",
    "\n",
    "def revenue(target, probabilities, count):\n",
    "    probs_sorted = probabilities.sort_values(ascending=False)\n",
    "    selected = target[probs_sorted.index][:count]\n",
    "    return 10 * selected.sum()\n",
    "\n",
    "state = np.random.RandomState(12345)\n",
    "    \n",
    "values = []\n",
    "for i in range(1000):\n",
    "\n",
    "    target_subsample= target.sample(n=25, replace=True,random_state=state)\n",
    "    probs_subsample=probabilities[target_subsample.index]\n",
    "    \n",
    "    values.append(revenue(target_subsample,probs_subsample,10))\n",
    "\n",
    "values = pd.Series(values)\n",
    "lower = values.quantile(.01)\n",
    "\n",
    "mean = values.mean()\n",
    "print(\"Ingresos promedio:\", mean)\n",
    "print(\"Cuantil del 1 %:\", lower)"
   ]
  },
  {
   "attachments": {
    "image.png": {
     "image/png": "[encoded data removed]"
    }
   },
   "cell_type": "markdown",
   "metadata": {},
   "source": [
    "![image.png](attachment:image.png)"
   ]
  }
 ],
 "metadata": {
  "kernelspec": {
   "display_name": "Python 3",
   "language": "python",
   "name": "python3"
  },
  "language_info": {
   "codemirror_mode": {
    "name": "ipython",
    "version": 3
   },
   "file_extension": ".py",
   "mimetype": "text/x-python",
   "name": "python",
   "nbconvert_exporter": "python",
   "pygments_lexer": "ipython3",
   "version": "3.11.1"
  },
  "orig_nbformat": 4
 },
 "nbformat": 4,
 "nbformat_minor": 2
}
