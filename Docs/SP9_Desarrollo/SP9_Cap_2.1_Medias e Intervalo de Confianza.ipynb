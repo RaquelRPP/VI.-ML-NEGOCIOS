{
 "cells": [
  {
   "attachments": {},
   "cell_type": "markdown",
   "metadata": {},
   "source": [
    "# 1. Comparacion de Medias"
   ]
  },
  {
   "attachments": {},
   "cell_type": "markdown",
   "metadata": {},
   "source": [
    "La tienda online de calzado KicksYouCanPayRentWith agregó a su sitio web una mascota animada de zapatillas deportivas. Va saltando por la pantalla mientras el usuario está navegando por los productos.\n",
    "- Observa dos muestras de importe promedio de compra antes y después de la implementación de la mascota. Imprime los valores medios anteriores y posteriores.\n",
    "- Comprueba la hipótesis de que el importe promedio de compra ha aumentado. Establece el nivel de significación en 5 %. Imprime en la pantalla el valor p y el resultado de la comprobación de la hipótesis."
   ]
  },
  {
   "cell_type": "code",
   "execution_count": 1,
   "metadata": {},
   "outputs": [],
   "source": [
    "import pandas as pd\n",
    "from scipy import stats as st"
   ]
  },
  {
   "cell_type": "code",
   "execution_count": 3,
   "metadata": {},
   "outputs": [
    {
     "name": "stdout",
     "output_type": "stream",
     "text": [
      "La media de antes: 396.9714285714286\n",
      "La media de después: 470.5285714285714\n",
      "p-value:  3.144776529490927e-29\n",
      "La hipótesis nula se rechaza, a saber, es probable que el importe promedio de las compras aumente\n"
     ]
    }
   ],
   "source": [
    "import pandas as pd\n",
    "\n",
    "sample_before = pd.Series([\n",
    "    436, 397, 433, 412, 367, 353, 440, 375, 414, \n",
    "    410, 434, 356, 377, 403, 434, 377, 437, 383,\n",
    "    388, 412, 350, 392, 354, 362, 392, 441, 371, \n",
    "    350, 364, 449, 413, 401, 382, 445, 366, 435,\n",
    "    442, 413, 386, 390, 350, 364, 418, 369, 369, \n",
    "    368, 429, 388, 397, 393, 373, 438, 385, 365,\n",
    "    447, 408, 379, 411, 358, 368, 442, 366, 431,\n",
    "    400, 449, 422, 423, 427, 361, 354])\n",
    "\n",
    "sample_after = pd.Series([\n",
    "    439, 518, 452, 505, 493, 470, 498, 442, 497, \n",
    "    423, 524, 442, 459, 452, 463, 488, 497, 500,\n",
    "    476, 501, 456, 425, 438, 435, 516, 453, 505, \n",
    "    441, 477, 469, 497, 502, 442, 449, 465, 429,\n",
    "    442, 472, 466, 431, 490, 475, 447, 435, 482, \n",
    "    434, 525, 510, 494, 493, 495, 499, 455, 464,\n",
    "    509, 432, 476, 438, 512, 423, 428, 499, 492, \n",
    "    493, 467, 493, 468, 420, 513, 427])\n",
    "\n",
    "print(\"La media de antes:\", sample_before.mean())\n",
    "print(\"La media de después:\", sample_after.mean())\n",
    "\n",
    "\n",
    "# nivel crítico de significación\n",
    "# la hipótesis se rechaza si el valor p es menor que ese\n",
    "alpha = .05\n",
    "\n",
    "results = st.ttest_ind(sample_before, sample_after, equal_var=False)\n",
    "# prueba unilateral (de una cola): el valor p será la mitad\n",
    "pvalue = results.pvalue/2\n",
    "\n",
    "print('p-value: ', pvalue)\n",
    "\n",
    "if pvalue < alpha:\n",
    "    print(\n",
    "        \"La hipótesis nula se rechaza, a saber, es probable que el importe promedio de las compras aumente\"\n",
    "    )\n",
    "else:\n",
    "    print(\n",
    "        \"La hipótesis nula no se rechaza, a saber, es poco probable que el importe medio de las compras aumente\"\n",
    "    )"
   ]
  },
  {
   "attachments": {},
   "cell_type": "markdown",
   "metadata": {},
   "source": [
    "sample_1_Good_Weather = (good_Weather['duration_seconds'])\n",
    " \n",
    "sample_2_Bad_Weather =(bad_Weather['duration_seconds'])\n",
    "\n",
    "alpha = 0.05 # el nivel de significancia estadística crítica\n",
    "# si el valor p es menor que alfa, rechazamos la hipótesis\n",
    "\n",
    "results = st.ttest_ind(sample_1_Good_Weather, sample_2_Bad_Weather, equal_var=False) # código: prueba la hipótesis de que las varianzas de los dos df son diferentes\n",
    "\n",
    "print('p-value: ', results.pvalue)\n",
    "\n",
    "if results.pvalue < alpha:\n",
    "    print(\"Rechazamos la hipótesis nula\")\n",
    "else:\n",
    "    print(\"No rechazamos la hipótesis nula\") \n",
    "\n",
    "print(results)"
   ]
  },
  {
   "attachments": {},
   "cell_type": "markdown",
   "metadata": {},
   "source": [
    "# 2. Cálculo del intervalo de confianza\n",
    "\n",
    "Se obtiene tilizando la distribución de Student scipy.stats.t. \n",
    "- Función para el intervalo de confianza, interval(), que toma:\n",
    "    -   alpha: nivel de significación\n",
    "    -   df: número de grados de libertad (igual a n - 1)\n",
    "    -   loc (de localización): la distribución media igual a la estimación media. \n",
    "        Para la muestra, se calcula  del modo siguiente: sample.mean()\n",
    "    -   scale: el error estándar de la distribución igual a la estimación del error estándar. \n",
    "        Se calcula de la siguiente manera: sample.sem()."
   ]
  },
  {
   "cell_type": "code",
   "execution_count": 4,
   "metadata": {},
   "outputs": [
    {
     "name": "stdout",
     "output_type": "stream",
     "text": [
      "Media: 470.5285714285714\n",
      "Intervalo de confianza del 95 %: (463.357753651609, 477.6993892055338)\n"
     ]
    }
   ],
   "source": [
    "# Construye un intervalo de confianza del 95 % para el importe promedio de compra en KicksYouCanPayRentWith \n",
    "# después de la implementación de la mascota de las zapatillas.\n",
    "\n",
    "import pandas as pd\n",
    "from scipy import stats as st\n",
    "\n",
    "sample = pd.Series([\n",
    "    439, 518, 452, 505, 493, 470, 498, 442, 497, \n",
    "    423, 524, 442, 459, 452, 463, 488, 497, 500,\n",
    "    476, 501, 456, 425, 438, 435, 516, 453, 505, \n",
    "    441, 477, 469, 497, 502, 442, 449, 465, 429,\n",
    "    442, 472, 466, 431, 490, 475, 447, 435, 482, \n",
    "    434, 525, 510, 494, 493, 495, 499, 455, 464,\n",
    "    509, 432, 476, 438, 512, 423, 428, 499, 492, \n",
    "    493, 467, 493, 468, 420, 513, 427])\n",
    "\n",
    "print('Media:', sample.mean())\n",
    "\n",
    "confidence_interval =st.t.interval(\n",
    "0.95, len(sample)-1,sample.mean(),sample.sem())\n",
    "\n",
    "print('Intervalo de confianza del 95 %:', confidence_interval)"
   ]
  },
  {
   "attachments": {},
   "cell_type": "markdown",
   "metadata": {},
   "source": [
    "La dispersion del ingreso es de solo 7 dólares"
   ]
  },
  {
   "attachments": {},
   "cell_type": "markdown",
   "metadata": {},
   "source": [
    "# 3. Bootstrapping para el intervalo de confianza\n",
    "\n",
    "Formar submuestras aleatorias con reemplazo"
   ]
  },
  {
   "cell_type": "code",
   "execution_count": 6,
   "metadata": {},
   "outputs": [
    {
     "name": "stdout",
     "output_type": "stream",
     "text": [
      "69    13.68\n",
      "dtype: float64\n",
      "69    13.68\n",
      "dtype: float64\n",
      "69    13.68\n",
      "dtype: float64\n",
      "69    13.68\n",
      "dtype: float64\n",
      "69    13.68\n",
      "dtype: float64\n"
     ]
    }
   ],
   "source": [
    "data = pd.Series([\n",
    "    10.7,  9.58,  7.74,  8.3 , 11.82,  9.74, 10.18,  8.43,  8.71,\n",
    "     6.84,  9.26, 11.61, 11.08,  8.94,  8.44, 10.41,  9.36, 10.85,\n",
    "    10.41,  8.37,  8.99, 10.17,  7.78, 10.79, 10.61, 10.87,  7.43,\n",
    "     8.44,  9.44,  8.26,  7.98, 11.27, 11.61,  9.84, 12.47,  7.8,\n",
    "    10.54,  8.99,  7.33,  8.55,  8.06, 10.62, 10.41,  9.29,  9.98,\n",
    "     9.46,  9.99,  8.62, 11.34, 11.21, 15.19, 20.85, 19.15, 19.01,\n",
    "    15.24, 16.66, 17.62, 18.22, 17.2, 15.76, 16.89, 15.22, 18.7,\n",
    "    14.84, 14.88, 19.41, 18.54, 17.85, 18.31, 13.68, 18.46, 13.99,\n",
    "    16.38, 16.88, 17.82, 15.17, 15.16, 18.15, 15.08, 15.91, 16.82,\n",
    "    16.85, 18.04, 17.51, 18.44, 15.33, 16.07, 17.22, 15.9, 18.03,\n",
    "    17.26, 17.6, 16.77, 17.45, 13.73, 14.95, 15.57, 19.19, 14.39,\n",
    "    15.76]) \n",
    "\n",
    "\n",
    "for i in range(5):\n",
    "    # extrae un elemento aleatorio de la muestra 1\n",
    "    # especifica random_state para su reproducción\n",
    "    print(data.sample(1, random_state=12345)) "
   ]
  },
  {
   "attachments": {},
   "cell_type": "markdown",
   "metadata": {},
   "source": [
    "Como especificamos el random_state, el elemento aleatorio es siempre el mismo. Para solucionarlo:\n",
    "-  crea una instancia RandomState() del módulo numpy.random:\n",
    "-  se pasa al argumento random_state de cualquier función.\n",
    "-  selección de elementos con reemplazo\n",
    "\n",
    "Es importante que con cada nueva llamada, su estado cambie a aleatorio para obtener diferentes submuestra."
   ]
  },
  {
   "cell_type": "code",
   "execution_count": 10,
   "metadata": {},
   "outputs": [],
   "source": [
    "from numpy.random import RandomState\n",
    "\n",
    "state = RandomState(12345) #instancia con Random_State de numpy.random"
   ]
  },
  {
   "cell_type": "code",
   "execution_count": 15,
   "metadata": {},
   "outputs": [
    {
     "name": "stdout",
     "output_type": "stream",
     "text": [
      "76    15.16\n",
      "dtype: float64\n",
      "73    16.88\n",
      "dtype: float64\n",
      "70    18.46\n",
      "dtype: float64\n",
      "80    16.82\n",
      "dtype: float64\n",
      "67    17.85\n",
      "dtype: float64\n"
     ]
    }
   ],
   "source": [
    "for i in range(5):\n",
    "    # extrae un elemento aleatorio de la muestra 1 con reemplazo\n",
    "    print(data.sample(1,  random_state=state)) "
   ]
  },
  {
   "cell_type": "code",
   "execution_count": 12,
   "metadata": {},
   "outputs": [
    {
     "name": "stdout",
     "output_type": "stream",
     "text": [
      "Sin reemplazo\n",
      "2    3\n",
      "0    1\n",
      "3    4\n",
      "1    2\n",
      "4    5\n",
      "dtype: int64\n",
      "Con reemplazo\n",
      "0    1\n",
      "1    2\n",
      "1    2\n",
      "3    4\n",
      "1    2\n",
      "dtype: int64\n"
     ]
    }
   ],
   "source": [
    "example_data = pd.Series([1, 2, 3, 4, 5])\n",
    "print('Sin reemplazo')\n",
    "print(example_data.sample(frac=1, replace=False, random_state=state))\n",
    "print('Con reemplazo')\n",
    "print(example_data.sample(frac=1, replace=True, random_state=state)) "
   ]
  },
  {
   "attachments": {},
   "cell_type": "markdown",
   "metadata": {},
   "source": [
    "1.\n",
    "Utilizando la técnica del bootstrapping, \n",
    "- crea 10 submuestras \n",
    "- un cuantil del 99 % para cada una de ellas. \n",
    "\n",
    "Imprímelas en la pantalla utilizando el string break.\n",
    "Comprueba la función quantile() para las instancias pandas.Series."
   ]
  },
  {
   "cell_type": "code",
   "execution_count": 20,
   "metadata": {},
   "outputs": [
    {
     "name": "stdout",
     "output_type": "stream",
     "text": [
      "19.192200000000003\n",
      "20.85\n",
      "19.20660000000001\n",
      "19.028400000000012\n",
      "19.42440000000001\n",
      "19.42440000000001\n",
      "20.85\n",
      "19.42440000000001\n",
      "19.42440000000001\n",
      "19.19\n"
     ]
    }
   ],
   "source": [
    "import pandas as pd\n",
    "import numpy as np\n",
    "\n",
    "data = pd.Series([\n",
    "    10.7 ,  9.58,  7.74,  8.3 , 11.82,  9.74, 10.18,  8.43,  8.71,\n",
    "     6.84,  9.26, 11.61, 11.08,  8.94,  8.44, 10.41,  9.36, 10.85,\n",
    "    10.41,  8.37,  8.99, 10.17,  7.78, 10.79, 10.61, 10.87,  7.43,\n",
    "     8.44,  9.44,  8.26,  7.98, 11.27, 11.61,  9.84, 12.47,  7.8 ,\n",
    "    10.54,  8.99,  7.33,  8.55,  8.06, 10.62, 10.41,  9.29,  9.98,\n",
    "     9.46,  9.99,  8.62, 11.34, 11.21, 15.19, 20.85, 19.15, 19.01,\n",
    "    15.24, 16.66, 17.62, 18.22, 17.2 , 15.76, 16.89, 15.22, 18.7 ,\n",
    "    14.84, 14.88, 19.41, 18.54, 17.85, 18.31, 13.68, 18.46, 13.99,\n",
    "    16.38, 16.88, 17.82, 15.17, 15.16, 18.15, 15.08, 15.91, 16.82,\n",
    "    16.85, 18.04, 17.51, 18.44, 15.33, 16.07, 17.22, 15.9 , 18.03,\n",
    "    17.26, 17.6 , 16.77, 17.45, 13.73, 14.95, 15.57, 19.19, 14.39,\n",
    "    15.76])\n",
    "\n",
    "state = np.random.RandomState(12345)\n",
    "\n",
    "for i in range(10):\n",
    "    subsample = data.sample(frac=1,replace=True,random_state=state)\n",
    "    print(subsample.quantile(0.99))"
   ]
  },
  {
   "attachments": {},
   "cell_type": "markdown",
   "metadata": {},
   "source": [
    "2.\n",
    "Utilizando la técnica del bootstrapping:\n",
    "- encuentra el intervalo de confianza del 90 % para el cuantil del 99 %. \n",
    "- Guarda su valor más bajo en la variable lower, y el valor más alto en la variable upper.\n",
    "- Imprímelos (en el precódigo).\n",
    "- Llama a la función quantile() dos veces: \n",
    "    - primero, para obtener el cuantil del 99 % de cada submuestra, \n",
    "    - y luego, para obtener el intervalo de confianza."
   ]
  },
  {
   "cell_type": "code",
   "execution_count": 25,
   "metadata": {},
   "outputs": [
    {
     "name": "stdout",
     "output_type": "stream",
     "text": [
      "19.011400000000002\n",
      "20.85\n"
     ]
    }
   ],
   "source": [
    "import pandas as pd\n",
    "import numpy as np\n",
    "\n",
    "data = pd.Series([\n",
    "    10.7 ,  9.58,  7.74,  8.3 , 11.82,  9.74, 10.18,  8.43,  8.71,\n",
    "     6.84,  9.26, 11.61, 11.08,  8.94,  8.44, 10.41,  9.36, 10.85,\n",
    "    10.41,  8.37,  8.99, 10.17,  7.78, 10.79, 10.61, 10.87,  7.43,\n",
    "     8.44,  9.44,  8.26,  7.98, 11.27, 11.61,  9.84, 12.47,  7.8 ,\n",
    "    10.54,  8.99,  7.33,  8.55,  8.06, 10.62, 10.41,  9.29,  9.98,\n",
    "     9.46,  9.99,  8.62, 11.34, 11.21, 15.19, 20.85, 19.15, 19.01,\n",
    "    15.24, 16.66, 17.62, 18.22, 17.2 , 15.76, 16.89, 15.22, 18.7 ,\n",
    "    14.84, 14.88, 19.41, 18.54, 17.85, 18.31, 13.68, 18.46, 13.99,\n",
    "    16.38, 16.88, 17.82, 15.17, 15.16, 18.15, 15.08, 15.91, 16.82,\n",
    "    16.85, 18.04, 17.51, 18.44, 15.33, 16.07, 17.22, 15.9 , 18.03,\n",
    "    17.26, 17.6 , 16.77, 17.45, 13.73, 14.95, 15.57, 19.19, 14.39,\n",
    "    15.76])\n",
    "\n",
    "state = np.random.RandomState(12345)\n",
    "\n",
    "# Se obtiene el cuantil 99% para cada submuestra\n",
    "\n",
    "for i in range(1000):  # Guarda los valores del cuantil del 99 % en la variable de valores\n",
    "values = []   \n",
    "    subsample = data.sample(frac=1, replace=True, random_state=state)\n",
    "    values.append(subsample.quantile(0.99))\n",
    "\n",
    "values=pd.Series(values)\n",
    "\n",
    "#Se obtiene el intervalo de confianza\n",
    "lower =values.quantile(0.05) #cuantil del 99\n",
    "upper =values.quantile(.95)\n",
    "\n",
    "print(lower)\n",
    "print(upper)"
   ]
  }
 ],
 "metadata": {
  "kernelspec": {
   "display_name": "Python 3",
   "language": "python",
   "name": "python3"
  },
  "language_info": {
   "codemirror_mode": {
    "name": "ipython",
    "version": 3
   },
   "file_extension": ".py",
   "mimetype": "text/x-python",
   "name": "python",
   "nbconvert_exporter": "python",
   "pygments_lexer": "ipython3",
   "version": "3.11.1"
  },
  "orig_nbformat": 4
 },
 "nbformat": 4,
 "nbformat_minor": 2
}
