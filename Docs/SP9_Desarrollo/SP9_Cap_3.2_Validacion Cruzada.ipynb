{
 "cells": [
  {
   "attachments": {},
   "cell_type": "markdown",
   "metadata": {},
   "source": [
    "# Validación cruzada en Python\n"
   ]
  },
  {
   "cell_type": "code",
   "execution_count": 3,
   "metadata": {},
   "outputs": [
    {
     "name": "stdout",
     "output_type": "stream",
     "text": [
      "Valor de calidad promedio del modelo: 0.7689768976897691\n"
     ]
    }
   ],
   "source": [
    "import pandas as pd\n",
    "from sklearn.tree import DecisionTreeClassifier\n",
    "\n",
    "data = pd.read_csv('datasets/heart.csv')\n",
    "features = data.drop(['target'], axis=1)\n",
    "target = data['target']\n",
    "\n",
    "scores = []\n",
    "\n",
    "# establece el tamaño del bloque si solo hay tres de ellos\n",
    "sample_size = int(len(data)/3)\n",
    "\n",
    "for i in range(0, len(data), sample_size):\n",
    "    valid_indexes = list(range(i, i + sample_size))\n",
    "    train_indexes = list(range(0, i)) + list(range(i + sample_size, len(data)))\n",
    "    \n",
    "\t\t# Divide las características de las variables y el objetivo en muestras features_train, target_train, features_valid, target_valid\n",
    "    features_train = features.iloc[train_indexes]\n",
    "    features_valid = features.iloc[valid_indexes]\n",
    "    \n",
    "    target_train = target.iloc[train_indexes]\n",
    "    target_valid = target.iloc[valid_indexes]\n",
    "\n",
    "    model = DecisionTreeClassifier(random_state=0)\n",
    "    model = model.fit(features_train, target_train)\n",
    "    score = model.score(features_valid, target_valid)\n",
    "    \n",
    "    scores.append(score)\n",
    " \n",
    "# < calcula la calidad media del modelo >  \n",
    "final_score = sum(scores) / len(scores) \n",
    "print('Valor de calidad promedio del modelo:', final_score)"
   ]
  },
  {
   "attachments": {},
   "cell_type": "markdown",
   "metadata": {},
   "source": [
    "# Validación cruzada en Sklearn"
   ]
  },
  {
   "cell_type": "code",
   "execution_count": 4,
   "metadata": {},
   "outputs": [
    {
     "data": {
      "text/plain": [
       "array([0.77227723, 0.72277228, 0.83168317])"
      ]
     },
     "execution_count": 4,
     "metadata": {},
     "output_type": "execute_result"
    }
   ],
   "source": [
    "from sklearn.model_selection import cross_val_score\n",
    "\n",
    "cross_val_score(model, features, target, cv=3) "
   ]
  },
  {
   "attachments": {},
   "cell_type": "markdown",
   "metadata": {},
   "source": [
    "La función toma varios argumentos, como:\n",
    "- model: modelo para validación cruzada. \n",
    "    - Está entrenado en el proceso de validación cruzada, por lo que tenemos que pasarlo sin entrenar.\n",
    "- features\n",
    "- target\n",
    "- cv — número de bloques para validación cruzada (son 3, por defecto) \n",
    "\n",
    "La función no requiere dividir los datos en bloques o muestras para la validación y el entrenamiento. Todos estos pasos se realizan de forma automática. \n",
    "\n",
    "La función devuelve una lista de valores de evaluación del modelo de cada validación. Cada valor es igual a model.score() para la muestra de validación. Por ejemplo, para una tarea de clasificación, esto es exactitud.\n"
   ]
  },
  {
   "attachments": {},
   "cell_type": "markdown",
   "metadata": {},
   "source": [
    "### EJERCICIO\n",
    "\n",
    "Calcula el puntaje de evaluación promedio usando el método de validación cruzada y guárdalo en la variable final_score. Llama a la función cross_val_score.\n",
    "Muestra en pantalla los valores final_score (en precódigo)."
   ]
  },
  {
   "cell_type": "code",
   "execution_count": 9,
   "metadata": {},
   "outputs": [
    {
     "name": "stdout",
     "output_type": "stream",
     "text": [
      "Puntuación media de la evaluación del modelo: 0.7856284153005464\n"
     ]
    }
   ],
   "source": [
    "#Supongamos que necesitamos este modelo para un árbol de decisión:\n",
    "\n",
    "import pandas as pd\n",
    "from sklearn.tree import DecisionTreeClassifier\n",
    "from sklearn.model_selection import cross_val_score\n",
    "\n",
    "data = pd.read_csv('datasets/heart.csv')\n",
    "features = data.drop(['target'], axis=1)\n",
    "target = data['target']\n",
    "\n",
    "model = DecisionTreeClassifier(random_state=0) #modelo sin entrenar\n",
    "\n",
    "scores= cross_val_score(model, features, target, cv=5) \n",
    "final_score= sum(scores) / len(scores)\n",
    "\n",
    "print('Puntuación media de la evaluación del modelo:', final_score)"
   ]
  }
 ],
 "metadata": {
  "kernelspec": {
   "display_name": "Python 3",
   "language": "python",
   "name": "python3"
  },
  "language_info": {
   "codemirror_mode": {
    "name": "ipython",
    "version": 3
   },
   "file_extension": ".py",
   "mimetype": "text/x-python",
   "name": "python",
   "nbconvert_exporter": "python",
   "pygments_lexer": "ipython3",
   "version": "3.11.1"
  },
  "orig_nbformat": 4
 },
 "nbformat": 4,
 "nbformat_minor": 2
}
