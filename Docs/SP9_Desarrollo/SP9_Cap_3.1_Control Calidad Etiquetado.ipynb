{
 "cells": [
  {
   "attachments": {},
   "cell_type": "markdown",
   "metadata": {},
   "source": [
    "# Control de calidad de etiquetado"
   ]
  },
  {
   "attachments": {},
   "cell_type": "markdown",
   "metadata": {},
   "source": [
    "Realiza el voto mayoritario para el conjunto de datos. Almacena el objetivo en la variable objetivo. Muestra en pantalla las cinco primeras filas de la tabla resultante (en precódigo).\n",
    "Hay muchas soluciones al problema, elige la que más te convenga."
   ]
  },
  {
   "cell_type": "code",
   "execution_count": 7,
   "metadata": {},
   "outputs": [
    {
     "name": "stdout",
     "output_type": "stream",
     "text": [
      "<class 'pandas.core.frame.DataFrame'>\n",
      "RangeIndex: 303 entries, 0 to 302\n",
      "Data columns (total 16 columns):\n",
      " #   Column    Non-Null Count  Dtype  \n",
      "---  ------    --------------  -----  \n",
      " 0   age       303 non-null    int64  \n",
      " 1   sex       303 non-null    int64  \n",
      " 2   cp        303 non-null    int64  \n",
      " 3   trestbps  303 non-null    int64  \n",
      " 4   chol      303 non-null    int64  \n",
      " 5   fbs       303 non-null    int64  \n",
      " 6   restecg   303 non-null    int64  \n",
      " 7   thalach   303 non-null    int64  \n",
      " 8   exang     303 non-null    int64  \n",
      " 9   oldpeak   303 non-null    float64\n",
      " 10  slope     303 non-null    int64  \n",
      " 11  ca        303 non-null    int64  \n",
      " 12  thal      303 non-null    int64  \n",
      " 13  label_1   303 non-null    int64  \n",
      " 14  label_2   303 non-null    int64  \n",
      " 15  label_3   303 non-null    int64  \n",
      "dtypes: float64(1), int64(15)\n",
      "memory usage: 38.0 KB\n"
     ]
    }
   ],
   "source": [
    "import pandas as pd\n",
    "\n",
    "data = pd.read_csv('datasets/heart_labeled.csv')\n",
    "data.info()"
   ]
  },
  {
   "cell_type": "code",
   "execution_count": 6,
   "metadata": {},
   "outputs": [
    {
     "name": "stdout",
     "output_type": "stream",
     "text": [
      "   age  sex  cp  trestbps  chol  fbs  restecg  thalach  exang  oldpeak  slope  \\\n",
      "0   50    1   0       150   243    0        0      128      0      2.6      1   \n",
      "1   55    0   1       135   250    0        0      161      0      1.4      1   \n",
      "2   54    1   0       140   239    0        1      160      0      1.2      2   \n",
      "3   59    1   3       178   270    0        0      145      0      4.2      0   \n",
      "4   70    1   2       160   269    0        1      112      1      2.9      1   \n",
      "\n",
      "   ca  thal  label_1  label_2  label_3  target  \n",
      "0   0     3        0        0        1       0  \n",
      "1   0     2        1        1        1       1  \n",
      "2   0     2        1        0        1       1  \n",
      "3   0     3        1        0        1       1  \n",
      "4   1     3        1        0        0       0  \n"
     ]
    }
   ],
   "source": [
    "\n",
    "\n",
    "target = []\n",
    "for i in range(data.shape[0]):\n",
    "    labels = data.loc[i, ['label_1', 'label_2', 'label_3']]\n",
    "    true_label = int(labels.mean() > 0.5)\n",
    "    target.append(true_label)\n",
    "data['target'] = target\n",
    "\n",
    "print(data.head())"
   ]
  },
  {
   "attachments": {},
   "cell_type": "markdown",
   "metadata": {},
   "source": []
  }
 ],
 "metadata": {
  "kernelspec": {
   "display_name": "Python 3",
   "language": "python",
   "name": "python3"
  },
  "language_info": {
   "codemirror_mode": {
    "name": "ipython",
    "version": 3
   },
   "file_extension": ".py",
   "mimetype": "text/x-python",
   "name": "python",
   "nbconvert_exporter": "python",
   "pygments_lexer": "ipython3",
   "version": "3.11.1"
  },
  "orig_nbformat": 4
 },
 "nbformat": 4,
 "nbformat_minor": 2
}
