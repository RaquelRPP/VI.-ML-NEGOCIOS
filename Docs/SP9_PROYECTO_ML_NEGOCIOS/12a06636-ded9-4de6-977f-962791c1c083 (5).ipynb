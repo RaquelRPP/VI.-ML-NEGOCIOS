{
 "cells": [
  {
   "cell_type": "markdown",
   "metadata": {},
   "source": [
    "# Revisión (primera iteración)\n",
    "\n",
    "Hola, Alen!\n",
    "\n",
    "Mi nombre es David Esparza Jasso y estoy feliz por revisar tu proyecto el día de hoy.\n",
    "\n",
    "\n",
    "\n",
    "Encontrarás mis comentarios abajo. - **por favor, no los muevas, modifiques o elimines**.\n",
    "\n",
    "\n",
    "Puedes encontrar mis comentarios en cajas verdes, amarillas y rojas como éstas:\n",
    "\n",
    "<div class=\"alert alert-block alert-success\">\n",
    "<b>Éxito</b> <a class=\"tocSkip\"></a>\n",
    "\n",
    "Correcto. Todo se hizo correctamente!\n",
    "</div>\n",
    "\n",
    "<div class=\"alert alert-block alert-warning\">\n",
    "<b>Atención</b> <a class=\"tocSkip\"></a>\n",
    "\n",
    "Observaciones. Algunas recomendaciones.\n",
    "</div>\n",
    "\n",
    "<div class=\"alert alert-block alert-danger\">\n",
    "\n",
    "<b>A resolver</b> <a class=\"tocSkip\"></a>\n",
    "\n",
    "Necesita correcciones. La parte correspondiente requiere algunas correcciones. El trabajo no puede ser aprobado con comentarios rojos sin corregir.\n",
    "</div>\n",
    "\n",
    "Puedes contestarme usando este tipo de cajas:\n",
    "\n",
    "<div class=\"alert alert-block alert-info\">\n",
    "<b>Respuesta del estudiante.</b> <a class=\"tocSkip\"></a>\n",
    "\n",
    "    \n",
    "En celdas como éstas puedes dejarme tus comentarios\n",
    "</div>\n",
    "\n",
    "Recuerda que, si deseas dejarme un comentario en alguna parte del documento, sólo tienes que dar doble clic sobre la celda de arriba, copiar el código, pegarlo en una nueva celda y sustituir la frase \"En celdas como éstas puedes dejarme tus comentarios\" por tu propio comentario. Asegúrate sólamente que la celda donde vayas a incluir tu comentario esté en formato \"Markdown\"."
   ]
  },
  {
   "cell_type": "markdown",
   "metadata": {},
   "source": [
    "<div class=\"alert alert-block alert-success\">\n",
    "<b>COMENTARIO GENERAL PRIMERA REVISIÓN</b> <a class=\"tocSkip\"></a>\n",
    "\n",
    "Felicidades, Alen! tu trabajo es correcto y estás aprobado! Es muy difícil que un estudiante apruebe un proyecto en estos niveles a la primera iteración, así que siéntete muy orgulloso! Sólo te dejo **1 comentario amarillo** para que por favor lo revises y te pueda ayudar en el futuro :)\n",
    "    \n",
    "Saludos!    \n",
    "\n",
    "</div>"
   ]
  },
  {
   "cell_type": "markdown",
   "metadata": {},
   "source": [
    "# Introduccion "
   ]
  },
  {
   "cell_type": "markdown",
   "metadata": {},
   "source": [
    "Este proyecto tiene como objetivo asistir a la compañía minera OilyGiant en la identificación del mejor lugar para establecer un nuevo pozo minero. Utilizaremos un modelo predictivo basado en regresión lineal para analizar la información disponible sobre múltiples reservas en tres regiones distintas.\n",
    "\n",
    "Nuestra tarea consistirá en examinar los datos proporcionados y utilizar el modelo de regresión lineal para evaluar el potencial de ganancias y los riesgos asociados a cada pozo y región. Este análisis nos permitirá tomar decisiones fundamentadas sobre la ubicación más adecuada para la instalación del nuevo pozo minero.\n",
    "\n",
    "Al aplicar la regresión lineal, podremos identificar las variables clave que influyen en la productividad y rentabilidad de los pozos. Además, podremos realizar predicciones sobre los posibles rendimientos y riesgos asociados a cada ubicación, lo que proporcionará a OilyGiant una visión sólida para optimizar sus operaciones mineras y maximizar sus ganancias.\n",
    "\n",
    "Nuestro enfoque se basa en aprovechar la potencia del modelo predictivo de regresión lineal para brindar a OilyGiant información valiosa y respaldada por datos, lo que les permitirá tomar decisiones estratégicas informadas en relación con la selección del mejor lugar para el nuevo pozo minero."
   ]
  },
  {
   "cell_type": "markdown",
   "metadata": {},
   "source": [
    "## Librerias"
   ]
  },
  {
   "cell_type": "code",
   "execution_count": 2,
   "metadata": {},
   "outputs": [],
   "source": [
    "# Cargamos las librerias que nos servirán para nuestro análisis\n",
    "import pandas as pd\n",
    "from scipy import stats as st\n",
    "import matplotlib.pyplot as plt\n",
    "from numpy.random import RandomState\n",
    "import numpy as np\n",
    "from sklearn.linear_model import LogisticRegression \n",
    "from sklearn.linear_model import LinearRegression\n",
    "from sklearn.metrics import accuracy_score\n",
    "from sklearn.metrics import recall_score\n",
    "from sklearn.metrics import roc_auc_score\n",
    "from sklearn.metrics import mean_squared_error\n",
    "from sklearn.model_selection import train_test_split\n",
    "from sklearn.preprocessing import LabelEncoder"
   ]
  },
  {
   "cell_type": "markdown",
   "metadata": {},
   "source": [
    "## Datos"
   ]
  },
  {
   "cell_type": "code",
   "execution_count": 3,
   "metadata": {},
   "outputs": [],
   "source": [
    "df0 = pd.read_csv('/datasets/geo_data_0.csv')\n",
    "df1 = pd.read_csv('/datasets/geo_data_1.csv')\n",
    "df2 = pd.read_csv('/datasets/geo_data_2.csv')"
   ]
  },
  {
   "cell_type": "markdown",
   "metadata": {},
   "source": [
    "## Conociendo los datos"
   ]
  },
  {
   "cell_type": "markdown",
   "metadata": {},
   "source": [
    "###  df0"
   ]
  },
  {
   "cell_type": "code",
   "execution_count": 20,
   "metadata": {
    "scrolled": false
   },
   "outputs": [
    {
     "name": "stdout",
     "output_type": "stream",
     "text": [
      "Explorando df0:\n"
     ]
    },
    {
     "data": {
      "text/html": [
       "<div>\n",
       "<style scoped>\n",
       "    .dataframe tbody tr th:only-of-type {\n",
       "        vertical-align: middle;\n",
       "    }\n",
       "\n",
       "    .dataframe tbody tr th {\n",
       "        vertical-align: top;\n",
       "    }\n",
       "\n",
       "    .dataframe thead th {\n",
       "        text-align: right;\n",
       "    }\n",
       "</style>\n",
       "<table border=\"1\" class=\"dataframe\">\n",
       "  <thead>\n",
       "    <tr style=\"text-align: right;\">\n",
       "      <th></th>\n",
       "      <th>id</th>\n",
       "      <th>f0</th>\n",
       "      <th>f1</th>\n",
       "      <th>f2</th>\n",
       "      <th>product</th>\n",
       "    </tr>\n",
       "  </thead>\n",
       "  <tbody>\n",
       "    <tr>\n",
       "      <th>0</th>\n",
       "      <td>txEyH</td>\n",
       "      <td>0.705745</td>\n",
       "      <td>-0.497823</td>\n",
       "      <td>1.221170</td>\n",
       "      <td>105.280062</td>\n",
       "    </tr>\n",
       "    <tr>\n",
       "      <th>1</th>\n",
       "      <td>2acmU</td>\n",
       "      <td>1.334711</td>\n",
       "      <td>-0.340164</td>\n",
       "      <td>4.365080</td>\n",
       "      <td>73.037750</td>\n",
       "    </tr>\n",
       "    <tr>\n",
       "      <th>2</th>\n",
       "      <td>409Wp</td>\n",
       "      <td>1.022732</td>\n",
       "      <td>0.151990</td>\n",
       "      <td>1.419926</td>\n",
       "      <td>85.265647</td>\n",
       "    </tr>\n",
       "    <tr>\n",
       "      <th>3</th>\n",
       "      <td>iJLyR</td>\n",
       "      <td>-0.032172</td>\n",
       "      <td>0.139033</td>\n",
       "      <td>2.978566</td>\n",
       "      <td>168.620776</td>\n",
       "    </tr>\n",
       "    <tr>\n",
       "      <th>4</th>\n",
       "      <td>Xdl7t</td>\n",
       "      <td>1.988431</td>\n",
       "      <td>0.155413</td>\n",
       "      <td>4.751769</td>\n",
       "      <td>154.036647</td>\n",
       "    </tr>\n",
       "  </tbody>\n",
       "</table>\n",
       "</div>"
      ],
      "text/plain": [
       "      id        f0        f1        f2     product\n",
       "0  txEyH  0.705745 -0.497823  1.221170  105.280062\n",
       "1  2acmU  1.334711 -0.340164  4.365080   73.037750\n",
       "2  409Wp  1.022732  0.151990  1.419926   85.265647\n",
       "3  iJLyR -0.032172  0.139033  2.978566  168.620776\n",
       "4  Xdl7t  1.988431  0.155413  4.751769  154.036647"
      ]
     },
     "metadata": {},
     "output_type": "display_data"
    },
    {
     "data": {
      "text/plain": [
       "(100000, 5)"
      ]
     },
     "metadata": {},
     "output_type": "display_data"
    },
    {
     "name": "stdout",
     "output_type": "stream",
     "text": [
      "<class 'pandas.core.frame.DataFrame'>\n",
      "RangeIndex: 100000 entries, 0 to 99999\n",
      "Data columns (total 5 columns):\n",
      " #   Column   Non-Null Count   Dtype  \n",
      "---  ------   --------------   -----  \n",
      " 0   id       100000 non-null  object \n",
      " 1   f0       100000 non-null  float64\n",
      " 2   f1       100000 non-null  float64\n",
      " 3   f2       100000 non-null  float64\n",
      " 4   product  100000 non-null  float64\n",
      "dtypes: float64(4), object(1)\n",
      "memory usage: 3.8+ MB\n"
     ]
    },
    {
     "data": {
      "text/plain": [
       "None"
      ]
     },
     "metadata": {},
     "output_type": "display_data"
    },
    {
     "data": {
      "text/html": [
       "<div>\n",
       "<style scoped>\n",
       "    .dataframe tbody tr th:only-of-type {\n",
       "        vertical-align: middle;\n",
       "    }\n",
       "\n",
       "    .dataframe tbody tr th {\n",
       "        vertical-align: top;\n",
       "    }\n",
       "\n",
       "    .dataframe thead th {\n",
       "        text-align: right;\n",
       "    }\n",
       "</style>\n",
       "<table border=\"1\" class=\"dataframe\">\n",
       "  <thead>\n",
       "    <tr style=\"text-align: right;\">\n",
       "      <th></th>\n",
       "      <th>f0</th>\n",
       "      <th>f1</th>\n",
       "      <th>f2</th>\n",
       "      <th>product</th>\n",
       "    </tr>\n",
       "  </thead>\n",
       "  <tbody>\n",
       "    <tr>\n",
       "      <th>count</th>\n",
       "      <td>100000.000000</td>\n",
       "      <td>100000.000000</td>\n",
       "      <td>100000.000000</td>\n",
       "      <td>100000.000000</td>\n",
       "    </tr>\n",
       "    <tr>\n",
       "      <th>mean</th>\n",
       "      <td>0.500419</td>\n",
       "      <td>0.250143</td>\n",
       "      <td>2.502647</td>\n",
       "      <td>92.500000</td>\n",
       "    </tr>\n",
       "    <tr>\n",
       "      <th>std</th>\n",
       "      <td>0.871832</td>\n",
       "      <td>0.504433</td>\n",
       "      <td>3.248248</td>\n",
       "      <td>44.288691</td>\n",
       "    </tr>\n",
       "    <tr>\n",
       "      <th>min</th>\n",
       "      <td>-1.408605</td>\n",
       "      <td>-0.848218</td>\n",
       "      <td>-12.088328</td>\n",
       "      <td>0.000000</td>\n",
       "    </tr>\n",
       "    <tr>\n",
       "      <th>25%</th>\n",
       "      <td>-0.072580</td>\n",
       "      <td>-0.200881</td>\n",
       "      <td>0.287748</td>\n",
       "      <td>56.497507</td>\n",
       "    </tr>\n",
       "    <tr>\n",
       "      <th>50%</th>\n",
       "      <td>0.502360</td>\n",
       "      <td>0.250252</td>\n",
       "      <td>2.515969</td>\n",
       "      <td>91.849972</td>\n",
       "    </tr>\n",
       "    <tr>\n",
       "      <th>75%</th>\n",
       "      <td>1.073581</td>\n",
       "      <td>0.700646</td>\n",
       "      <td>4.715088</td>\n",
       "      <td>128.564089</td>\n",
       "    </tr>\n",
       "    <tr>\n",
       "      <th>max</th>\n",
       "      <td>2.362331</td>\n",
       "      <td>1.343769</td>\n",
       "      <td>16.003790</td>\n",
       "      <td>185.364347</td>\n",
       "    </tr>\n",
       "  </tbody>\n",
       "</table>\n",
       "</div>"
      ],
      "text/plain": [
       "                  f0             f1             f2        product\n",
       "count  100000.000000  100000.000000  100000.000000  100000.000000\n",
       "mean        0.500419       0.250143       2.502647      92.500000\n",
       "std         0.871832       0.504433       3.248248      44.288691\n",
       "min        -1.408605      -0.848218     -12.088328       0.000000\n",
       "25%        -0.072580      -0.200881       0.287748      56.497507\n",
       "50%         0.502360       0.250252       2.515969      91.849972\n",
       "75%         1.073581       0.700646       4.715088     128.564089\n",
       "max         2.362331       1.343769      16.003790     185.364347"
      ]
     },
     "metadata": {},
     "output_type": "display_data"
    }
   ],
   "source": [
    "# Explorar el DataFrame df0\n",
    "print(\"Explorando df0:\")\n",
    "display(df0.head())  # Mostrar las primeras filas del DataFrame\n",
    "display(df0.shape)  # Mostrar la forma del DataFrame (filas, columnas)\n",
    "display(df0.info())  # Mostrar información sobre las columnas y los tipos de datos\n",
    "display(df0.describe())  # Mostrar estadísticas descriptivas de las columnas numéricas\n"
   ]
  },
  {
   "cell_type": "markdown",
   "metadata": {},
   "source": [
    "<div class=\"alert alert-block alert-warning\">\n",
    "<b>Atención</b> <a class=\"tocSkip\"></a>\n",
    "\n",
    "Muy bien, sólo te recomiendo que los `.head()` y los `.describe()` los muestres con `display()` en vez de con `print()`. Hazlo y verás el porqué.</div>"
   ]
  },
  {
   "cell_type": "code",
   "execution_count": 5,
   "metadata": {},
   "outputs": [
    {
     "name": "stdout",
     "output_type": "stream",
     "text": [
      "Espacios vacíos en df0:\n",
      "id         0\n",
      "f0         0\n",
      "f1         0\n",
      "f2         0\n",
      "product    0\n",
      "dtype: int64\n"
     ]
    }
   ],
   "source": [
    "# Verificar los espacios vacíos en df0\n",
    "print(\"Espacios vacíos en df0:\")\n",
    "print(df0.isnull().sum())"
   ]
  },
  {
   "cell_type": "markdown",
   "metadata": {},
   "source": [
    "### df1"
   ]
  },
  {
   "cell_type": "code",
   "execution_count": 6,
   "metadata": {
    "scrolled": true
   },
   "outputs": [
    {
     "name": "stdout",
     "output_type": "stream",
     "text": [
      "Explorando df1:\n",
      "      id         f0         f1        f2     product\n",
      "0  kBEdx -15.001348  -8.276000 -0.005876    3.179103\n",
      "1  62mP7  14.272088  -3.475083  0.999183   26.953261\n",
      "2  vyE1P   6.263187  -5.948386  5.001160  134.766305\n",
      "3  KcrkZ -13.081196 -11.506057  4.999415  137.945408\n",
      "4  AHL4O  12.702195  -8.147433  5.004363  134.766305\n",
      "(100000, 5)\n",
      "<class 'pandas.core.frame.DataFrame'>\n",
      "RangeIndex: 100000 entries, 0 to 99999\n",
      "Data columns (total 5 columns):\n",
      " #   Column   Non-Null Count   Dtype  \n",
      "---  ------   --------------   -----  \n",
      " 0   id       100000 non-null  object \n",
      " 1   f0       100000 non-null  float64\n",
      " 2   f1       100000 non-null  float64\n",
      " 3   f2       100000 non-null  float64\n",
      " 4   product  100000 non-null  float64\n",
      "dtypes: float64(4), object(1)\n",
      "memory usage: 3.8+ MB\n",
      "None\n",
      "                  f0             f1             f2        product\n",
      "count  100000.000000  100000.000000  100000.000000  100000.000000\n",
      "mean        1.141296      -4.796579       2.494541      68.825000\n",
      "std         8.965932       5.119872       1.703572      45.944423\n",
      "min       -31.609576     -26.358598      -0.018144       0.000000\n",
      "25%        -6.298551      -8.267985       1.000021      26.953261\n",
      "50%         1.153055      -4.813172       2.011479      57.085625\n",
      "75%         8.621015      -1.332816       3.999904     107.813044\n",
      "max        29.421755      18.734063       5.019721     137.945408\n"
     ]
    }
   ],
   "source": [
    "# Explorar el DataFrame df1\n",
    "print(\"Explorando df1:\")\n",
    "print(df1.head())\n",
    "print(df1.shape)\n",
    "print(df1.info())\n",
    "print(df1.describe())\n"
   ]
  },
  {
   "cell_type": "code",
   "execution_count": 7,
   "metadata": {},
   "outputs": [
    {
     "name": "stdout",
     "output_type": "stream",
     "text": [
      "Espacios vacíos en df1:\n",
      "id         0\n",
      "f0         0\n",
      "f1         0\n",
      "f2         0\n",
      "product    0\n",
      "dtype: int64\n"
     ]
    }
   ],
   "source": [
    "# Verificar los espacios vacíos en df1\n",
    "print(\"Espacios vacíos en df1:\")\n",
    "print(df1.isnull().sum())"
   ]
  },
  {
   "cell_type": "markdown",
   "metadata": {},
   "source": [
    "### df2"
   ]
  },
  {
   "cell_type": "code",
   "execution_count": 8,
   "metadata": {
    "scrolled": true
   },
   "outputs": [
    {
     "name": "stdout",
     "output_type": "stream",
     "text": [
      "Explorando df2:\n",
      "      id        f0        f1        f2     product\n",
      "0  fwXo0 -1.146987  0.963328 -0.828965   27.758673\n",
      "1  WJtFt  0.262778  0.269839 -2.530187   56.069697\n",
      "2  ovLUW  0.194587  0.289035 -5.586433   62.871910\n",
      "3  q6cA6  2.236060 -0.553760  0.930038  114.572842\n",
      "4  WPMUX -0.515993  1.716266  5.899011  149.600746\n",
      "(100000, 5)\n",
      "<class 'pandas.core.frame.DataFrame'>\n",
      "RangeIndex: 100000 entries, 0 to 99999\n",
      "Data columns (total 5 columns):\n",
      " #   Column   Non-Null Count   Dtype  \n",
      "---  ------   --------------   -----  \n",
      " 0   id       100000 non-null  object \n",
      " 1   f0       100000 non-null  float64\n",
      " 2   f1       100000 non-null  float64\n",
      " 3   f2       100000 non-null  float64\n",
      " 4   product  100000 non-null  float64\n",
      "dtypes: float64(4), object(1)\n",
      "memory usage: 3.8+ MB\n",
      "None\n",
      "                  f0             f1             f2        product\n",
      "count  100000.000000  100000.000000  100000.000000  100000.000000\n",
      "mean        0.002023      -0.002081       2.495128      95.000000\n",
      "std         1.732045       1.730417       3.473445      44.749921\n",
      "min        -8.760004      -7.084020     -11.970335       0.000000\n",
      "25%        -1.162288      -1.174820       0.130359      59.450441\n",
      "50%         0.009424      -0.009482       2.484236      94.925613\n",
      "75%         1.158535       1.163678       4.858794     130.595027\n",
      "max         7.238262       7.844801      16.739402     190.029838\n"
     ]
    }
   ],
   "source": [
    "# Explorar el DataFrame df2\n",
    "print(\"Explorando df2:\")\n",
    "print(df2.head())\n",
    "print(df2.shape)\n",
    "print(df2.info())\n",
    "print(df2.describe())"
   ]
  },
  {
   "cell_type": "code",
   "execution_count": 9,
   "metadata": {
    "scrolled": true
   },
   "outputs": [
    {
     "name": "stdout",
     "output_type": "stream",
     "text": [
      "Espacios vacíos en df2:\n",
      "id         0\n",
      "f0         0\n",
      "f1         0\n",
      "f2         0\n",
      "product    0\n",
      "dtype: int64\n"
     ]
    }
   ],
   "source": [
    "# Verificar los espacios vacíos en df2\n",
    "print(\"Espacios vacíos en df2:\")\n",
    "print(df2.isnull().sum())"
   ]
  },
  {
   "cell_type": "markdown",
   "metadata": {},
   "source": [
    "## Limpieza de datos"
   ]
  },
  {
   "cell_type": "markdown",
   "metadata": {},
   "source": [
    "Según la exploración de los datos, la columna \"id\" contiene identificadores únicos para cada pozo de petróleo y no parece tener un impacto directo en la predicción del volumen de reservas. Por lo tanto, es razonable considerar eliminar la columna \"id\" antes de entrenar el modelo de regresión lineal.\n",
    "\n",
    "También, combinaremos los DataFrames en una lista, lo que nos permitirá ahorrar espacio y hará que el código sea más eficiente. Es importante tener en cuenta que solo modificaremos los datos en esta lista, los DataFrames originales no se verán afectados."
   ]
  },
  {
   "cell_type": "code",
   "execution_count": 10,
   "metadata": {},
   "outputs": [],
   "source": [
    "dfs = [df0, df1, df2]"
   ]
  },
  {
   "cell_type": "code",
   "execution_count": 11,
   "metadata": {},
   "outputs": [],
   "source": [
    "for df in range(len(dfs)):\n",
    "    dfs[df] = dfs[df].drop('id', axis=1)"
   ]
  },
  {
   "cell_type": "markdown",
   "metadata": {},
   "source": [
    "<div class=\"alert alert-block alert-success\">\n",
    "<b>Éxito</b> <a class=\"tocSkip\"></a>\n",
    "\n",
    "Correcto, esas columnas no te sirven    \n",
    "</div>"
   ]
  },
  {
   "cell_type": "code",
   "execution_count": 12,
   "metadata": {},
   "outputs": [
    {
     "name": "stdout",
     "output_type": "stream",
     "text": [
      "<class 'pandas.core.frame.DataFrame'>\n",
      "RangeIndex: 100000 entries, 0 to 99999\n",
      "Data columns (total 4 columns):\n",
      " #   Column   Non-Null Count   Dtype  \n",
      "---  ------   --------------   -----  \n",
      " 0   f0       100000 non-null  float64\n",
      " 1   f1       100000 non-null  float64\n",
      " 2   f2       100000 non-null  float64\n",
      " 3   product  100000 non-null  float64\n",
      "dtypes: float64(4)\n",
      "memory usage: 3.1 MB\n"
     ]
    }
   ],
   "source": [
    "#Verificamos que haya sido removido\n",
    "dfs[0].info()"
   ]
  },
  {
   "cell_type": "markdown",
   "metadata": {},
   "source": [
    "## Primer Modelo"
   ]
  },
  {
   "cell_type": "code",
   "execution_count": 13,
   "metadata": {},
   "outputs": [],
   "source": [
    "rs = RandomState(54321) "
   ]
  },
  {
   "cell_type": "code",
   "execution_count": 14,
   "metadata": {
    "scrolled": true
   },
   "outputs": [
    {
     "name": "stdout",
     "output_type": "stream",
     "text": [
      "Región 0\n",
      "Promedio de las reservas: 92.50000000000001\n",
      "RECM: 37.68341093860808\n",
      "\n",
      "Región 1\n",
      "Promedio de las reservas: 68.82500000000002\n",
      "RECM: 0.8885222400411976\n",
      "\n",
      "Región 2\n",
      "Promedio de las reservas: 95.00000000000004\n",
      "RECM: 40.136726733973994\n",
      "\n"
     ]
    }
   ],
   "source": [
    "targets = [] # Donde juntaremos los target de validación\n",
    "preds = [] # Donde juntaremos las predicciones de validación\n",
    "\n",
    "for i in range(len(dfs)):\n",
    "    df_train, df_valid = train_test_split(dfs[i], test_size=0.25, random_state=rs) # Dividmos los datos\n",
    "    features_train = df_train.drop(['product'], axis=1) # Creamos features de entrenamiento\n",
    "    target_train = df_train['product'] # Creamos targets de entrenamiento\n",
    "    features_valid = df_valid.drop(['product'], axis=1) # Creamos features de validación\n",
    "    target_valid = df_valid['product'] # Creamos target de validación\n",
    "    \n",
    "    reg = LinearRegression() # Creamos la regresión\n",
    "    reg.fit(features_train, target_train) # Entrenamos a la regresión\n",
    "\n",
    "    pred = reg.predict(features_valid) # Hacemos predicciones con el modelo\n",
    "    ecm = mean_squared_error(target_valid, pred) # Calculamos el ECM\n",
    "    recm = ecm**0.5 # Calculamos el RECM\n",
    "    mean = dfs[i]['product'].mean() # Calculamos el promedio\n",
    "    \n",
    "    # Agregamos las informaciones a las listas externas\n",
    "    targets.append(target_valid.reset_index(drop=True))\n",
    "    preds.append(pd.Series(pred))\n",
    "    \n",
    "    # Imprimimos los resultados\n",
    "    print('Región', i)\n",
    "    print('Promedio de las reservas:', mean)\n",
    "    print('RECM:', recm)\n",
    "    print()\n"
   ]
  },
  {
   "cell_type": "markdown",
   "metadata": {},
   "source": [
    "<div class=\"alert alert-block alert-success\">\n",
    "<b>Éxito</b> <a class=\"tocSkip\"></a>\n",
    "\n",
    "Perfecto! perfecto trabajo el de arriba!    \n",
    "</div>"
   ]
  },
  {
   "cell_type": "markdown",
   "metadata": {},
   "source": [
    "Región 0: El promedio de las reservas en esta región es de aproximadamente 92.5 unidades. Sin embargo, el modelo de regresión lineal aplicado mostró un RECM de 37.83, lo cual indica que las predicciones tienen una desviación promedio de alrededor de 37.83 unidades respecto a los valores reales. Esto sugiere que el modelo no es muy preciso en esta región y puede haber margen de mejora.\n",
    "\n",
    "Región 1: Aquí, el promedio de las reservas es de aproximadamente 68.82 unidades. El modelo de regresión lineal aplicado en esta región logró un RECM muy bajo de 0.89, lo que implica que las predicciones fueron extremadamente precisas y se ajustaron casi perfectamente a los valores reales. Este resultado es muy alentador y sugiere que el modelo tiene un excelente desempeño en esta región.\n",
    "\n",
    "Región 2: En esta región, el promedio de las reservas es de aproximadamente 95 unidades. Sin embargo, el modelo de regresión lineal aplicado mostró un RECM de 40.14, indicando que las predicciones tienen una desviación promedio de alrededor de 40.14 unidades. Al igual que en la Región 0, este resultado sugiere que el modelo puede mejorar en términos de precisión en esta región.\n",
    "\n",
    "En resumen, el modelo de regresión lineal aplicado en la Región 1 fue altamente preciso, mientras que los modelos de las Regiones 0 y 2 mostraron un rendimiento menos satisfactorio. Sería recomendable investigar y explorar diferentes modelos o técnicas de regresión que puedan mejorar la precisión en estas regiones."
   ]
  },
  {
   "cell_type": "markdown",
   "metadata": {},
   "source": [
    "<div class=\"alert alert-block alert-success\">\n",
    "<b>Éxito</b> <a class=\"tocSkip\"></a>\n",
    "\n",
    "Muy buenos comentarios    \n",
    "</div>"
   ]
  },
  {
   "cell_type": "markdown",
   "metadata": {},
   "source": [
    "## Calculo de Ganancias"
   ]
  },
  {
   "cell_type": "markdown",
   "metadata": {},
   "source": [
    "Para calcular las posibles ganancias bajo las condiciones dadas, podemos seguir los siguientes pasos:\n",
    "\n",
    "Exploración y selección de los mejores 200 puntos: Para cada región, se lleva a cabo un estudio de 500 puntos. Luego, se seleccionan los mejores 200 puntos de cada región para el cálculo del beneficio.\n",
    "\n",
    "Cálculo del presupuesto: El presupuesto para el desarrollo de 200 pozos petroleros es de 100 millones de dólares. Esto significa que el costo de desarrollar un pozo es de 100 millones de dólares dividido entre los 200 pozos.\n",
    "\n",
    "Cálculo del ingreso y beneficio: Dado que un barril de materias primas genera 4.5 USD de ingresos y el volumen de reservas está expresado en miles de barriles, podemos calcular el ingreso de una unidad de producto multiplicando el volumen de reservas por 4.5. Luego, el beneficio se calcula como el ingreso menos el costo de desarrollo de cada pozo.\n",
    "\n",
    "Evaluación del riesgo: Calculamos el riesgo de pérdidas para cada región. Si el riesgo de pérdidas de una región es inferior al 2.5%, la consideramos como una opción válida.\n",
    "\n",
    "Selección de la región más rentable: De las regiones que cumplen con el criterio de riesgo de pérdidas inferior al 2.5%, seleccionamos aquella que tiene el beneficio promedio más alto."
   ]
  },
  {
   "cell_type": "markdown",
   "metadata": {},
   "source": [
    "## Variables Importantes"
   ]
  },
  {
   "cell_type": "markdown",
   "metadata": {},
   "source": [
    "Además de las condiciones mencionadas anteriormente, para realizar los cálculos necesarios, necesitaremos aislar las siguientes variables relevantes para cada región:\n",
    "\n",
    "Cantidad de producto por pozo: Será necesario conocer la cantidad de producto por pozo en cada región. Esta información nos permitirá ordenar los pozos en orden descendente según su cantidad de producto y seleccionar los mejores 200 pozos para el cálculo del beneficio.\n",
    "\n",
    "Cantidad de producto necesaria para establecer un pozo sin pérdidas: De acuerdo con el criterio de riesgo establecido, necesitaremos calcular la cantidad de producto mínima necesaria para que un pozo no genere pérdidas. Esta cantidad nos servirá como referencia para evaluar cada región y determinar si cumple con el criterio de riesgo.\n",
    "\n",
    "Comparación con la cantidad promedio de producto por pozo: Para cada región, será necesario comparar la cantidad promedio de producto por pozo con la cantidad mínima necesaria para establecer un pozo sin pérdidas. Esta comparación nos ayudará a identificar si la región tiene un potencial suficiente para generar beneficios, considerando tanto la cantidad promedio de producto como el criterio de riesgo establecido.\n",
    "\n",
    "Teniendo en cuenta estas variables, podremos realizar los cálculos necesarios y tomar decisiones informadas sobre la región más rentable que cumpla con los criterios establecidos."
   ]
  },
  {
   "cell_type": "code",
   "execution_count": 15,
   "metadata": {},
   "outputs": [],
   "source": [
    "# Variables generales\n",
    "costo_pozo = 100000000 / 200  # Costo de 200 pozos dividido por pozos\n",
    "ingreso_producto = 4500  # Ingreso por unidad de producto\n",
    "riesgo_max = 0.025  # 2.5%\n",
    "\n",
    "regiones = [df0, df1, df2]  # Lista de DataFrames de las regiones\n",
    "productos = []  # Lista para almacenar los productos ordenados de cada región\n",
    "means = []  # Lista para almacenar los promedios de producto de cada región\n",
    "\n",
    "# Obtener productos y promedios de cada región\n",
    "for region in regiones:\n",
    "    productos_region = region['product'].sort_values(ascending=False)\n",
    "    mean_region = region['product'].mean()\n",
    "    productos.append(productos_region)\n",
    "    means.append(mean_region)\n",
    "\n",
    "# Asignar variables específicas para cada región\n",
    "product_0 = productos[0]\n",
    "mean_0 = means[0]\n",
    "\n",
    "product_1 = productos[1]\n",
    "mean_1 = means[1]\n",
    "\n",
    "product_2 = productos[2]\n",
    "mean_2 = means[2]\n"
   ]
  },
  {
   "cell_type": "code",
   "execution_count": 16,
   "metadata": {
    "scrolled": true
   },
   "outputs": [
    {
     "name": "stdout",
     "output_type": "stream",
     "text": [
      "Cantidad de producto necesario en un pozo: 111.11111111111111\n",
      "\n",
      "Producto promedio en región 0: 92.50000000000001\n",
      "Producto promedio en región 1: 68.82500000000002\n",
      "Producto promedio en región 2: 95.00000000000004\n"
     ]
    }
   ],
   "source": [
    "print('Cantidad de producto necesario en un pozo:', costo_pozo/ingreso_producto)\n",
    "print()\n",
    "print('Producto promedio en región 0:', mean_0)\n",
    "print('Producto promedio en región 1:', mean_1)\n",
    "print('Producto promedio en región 2:', mean_2)"
   ]
  },
  {
   "cell_type": "markdown",
   "metadata": {},
   "source": [
    "<div class=\"alert alert-block alert-success\">\n",
    "<b>Éxito</b> <a class=\"tocSkip\"></a>\n",
    "\n",
    "Correcto, buen cálculo!"
   ]
  },
  {
   "cell_type": "markdown",
   "metadata": {},
   "source": [
    "Basándonos en los datos proporcionados:\n",
    "\n",
    "La cantidad de producto necesaria en un pozo es de 111.11111111111111 unidades.\n",
    "El producto promedio en la región 0 es de 92.50000000000001 unidades.\n",
    "El producto promedio en la región 1 es de 68.82500000000002 unidades.\n",
    "El producto promedio en la región 2 es de 95.00000000000004 unidades.\n",
    "Podemos concluir lo siguiente:\n",
    "\n",
    "En la región 0, el producto promedio por pozo (92.5 unidades) está por debajo de la cantidad necesaria en un pozo (111.11 unidades). Esto indica que, en promedio, los pozos en esta región no alcanzan la cantidad necesaria para ser rentables sin pérdidas.\n",
    "\n",
    "En la región 1, el producto promedio por pozo (68.825 unidades) está por debajo de la cantidad necesaria en un pozo (111.11 unidades). Al igual que en la región 0, esto sugiere que los pozos en esta región también podrían generar pérdidas.\n",
    "\n",
    "En la región 2, el producto promedio por pozo (95.00004 unidades) supera ligeramente la cantidad necesaria en un pozo (111.11 unidades). Aunque los pozos en esta región tienen un producto promedio más cercano al umbral de rentabilidad, aún existe cierto riesgo de pérdidas."
   ]
  },
  {
   "cell_type": "code",
   "execution_count": 17,
   "metadata": {},
   "outputs": [
    {
     "name": "stdout",
     "output_type": "stream",
     "text": [
      "Mayor cantidad de producto en región 0:\n",
      "8826     185.364347\n",
      "99818    185.362690\n",
      "94175    185.355615\n",
      "1925     185.354980\n",
      "45291    185.352015\n",
      "Name: product, dtype: float64\n",
      "\n",
      "Mayor cantidad de producto en región 1:\n",
      "53864    137.945408\n",
      "97083    137.945408\n",
      "88340    137.945408\n",
      "64879    137.945408\n",
      "7288     137.945408\n",
      "Name: product, dtype: float64\n",
      "\n",
      "Mayor cantidad de producto en región 1:\n",
      "79705    190.029838\n",
      "93444    190.013589\n",
      "35099    190.011722\n",
      "21943    190.010982\n",
      "37870    190.010029\n",
      "Name: product, dtype: float64\n",
      "\n"
     ]
    }
   ],
   "source": [
    "print('Mayor cantidad de producto en región 0:')\n",
    "print(product_0.head())\n",
    "print()\n",
    "print('Mayor cantidad de producto en región 1:')\n",
    "print(product_1.head())\n",
    "print()\n",
    "print('Mayor cantidad de producto en región 1:')\n",
    "print(product_2.head())\n",
    "print()"
   ]
  },
  {
   "cell_type": "markdown",
   "metadata": {},
   "source": [
    "Una posible explicación para el RECM de 0 obtenido en el modelo de la región 1 podría ser que los valores en esta región se encuentran dentro de un rango más estrecho en comparación con las otras dos regiones. Tanto el promedio de producto por pozo como la cantidad de producto en los pozos más grandes de esta región son notablemente inferiores en comparación con las otras dos regiones.\n",
    "\n",
    "Esta menor variabilidad en los valores de la región 1 podría hacer que el modelo de regresión lineal se ajuste de manera más precisa a los datos, resultando en predicciones más exactas y, por lo tanto, un RECM de 0. Sin embargo, es importante tener en cuenta que esta interpretación se basa en la información proporcionada y que otros factores también podrían estar influyendo en el resultado."
   ]
  },
  {
   "cell_type": "markdown",
   "metadata": {},
   "source": [
    "## Ganancias"
   ]
  },
  {
   "cell_type": "code",
   "execution_count": 18,
   "metadata": {},
   "outputs": [],
   "source": [
    "def revenue(target, product, count):\n",
    "    prod_sorted = product.sort_values(ascending=False) \n",
    "    selected = target[prod_sorted.index][:count] \n",
    "    return 4500 *sum(selected)-100000000\n"
   ]
  },
  {
   "cell_type": "markdown",
   "metadata": {},
   "source": [
    "<div class=\"alert alert-block alert-success\">\n",
    "<b>Éxito</b> <a class=\"tocSkip\"></a>\n",
    "\n",
    "Correcta función la de arriba    \n",
    "</div>"
   ]
  },
  {
   "cell_type": "code",
   "execution_count": 19,
   "metadata": {},
   "outputs": [
    {
     "name": "stdout",
     "output_type": "stream",
     "text": [
      "Región 0\n",
      "Ganancia promedio: 4128884.9328680914\n",
      "Riesgo de pérdida: 0.068\n",
      "Rango de confianza desde -1031901.464448056 hasta 9768852.938127648\n",
      "\n"
     ]
    },
    {
     "data": {
      "image/png": "[encoded data removed]",
      "text/plain": [
       "<Figure size 432x288 with 1 Axes>"
      ]
     },
     "metadata": {
      "needs_background": "light"
     },
     "output_type": "display_data"
    },
    {
     "name": "stdout",
     "output_type": "stream",
     "text": [
      "Región 1\n",
      "Ganancia promedio: 4907373.115252653\n",
      "Riesgo de pérdida: 0.011\n",
      "Rango de confianza desde 602181.185877391 hasta 9022825.697601425\n",
      "\n"
     ]
    },
    {
     "data": {
      "image/png": "[encoded data removed]",
      "text/plain": [
       "<Figure size 432x288 with 1 Axes>"
      ]
     },
     "metadata": {
      "needs_background": "light"
     },
     "output_type": "display_data"
    },
    {
     "name": "stdout",
     "output_type": "stream",
     "text": [
      "Región 2\n",
      "Ganancia promedio: 3379517.6657345025\n",
      "Riesgo de pérdida: 0.123\n",
      "Rango de confianza desde -2154139.9047276992 hasta 8988732.3884589\n",
      "\n"
     ]
    },
    {
     "data": {
      "image/png": "[encoded data removed]",
      "text/plain": [
       "<Figure size 432x288 with 1 Axes>"
      ]
     },
     "metadata": {
      "needs_background": "light"
     },
     "output_type": "display_data"
    },
    {
     "data": {
      "image/png": "[encoded data removed]",
      "text/plain": [
       "<Figure size 432x288 with 1 Axes>"
      ]
     },
     "metadata": {
      "needs_background": "light"
     },
     "output_type": "display_data"
    }
   ],
   "source": [
    "num_bootstrap = 1000\n",
    "n = 0\n",
    "mean_profits = []  # Lista para almacenar las ganancias promedio de cada región\n",
    "\n",
    "for tar, pred in zip(targets, preds):\n",
    "    profits = []\n",
    "    for i in range(num_bootstrap):\n",
    "        # Hacer muestreo con reemplazo por el tamaño de muestra sugerido en el target y con la misma semilla del principio\n",
    "        target_subsample = pd.Series(tar).sample(n=500, replace=True, random_state=rs)\n",
    "        # Utilizar el índice de este muestreo para las predicciones\n",
    "        pred_subsample = pred[target_subsample.index]\n",
    "        # Calcular el profit con la función de arriba y agregarlo a la lista vacía\n",
    "        profits.append(revenue(target_subsample, pred_subsample, 200))\n",
    "    # Transformar la lista de profits en una serie\n",
    "    profits = pd.Series(profits)\n",
    "    # Calcular la media\n",
    "    mean = profits.mean()\n",
    "    # Obtener intervalos de confianza\n",
    "    trust_down = profits.quantile(0.025)\n",
    "    trust_up = profits.quantile(0.975)\n",
    "    # Calcular la media de los datos negativos de la serie\n",
    "    loss = (profits < 0).mean()\n",
    "    \n",
    "    print('Región', n)\n",
    "    print('Ganancia promedio:', mean)\n",
    "    print('Riesgo de pérdida:', loss)\n",
    "    print('Rango de confianza desde', trust_down, 'hasta', trust_up)\n",
    "    print()\n",
    "    \n",
    "    # Graficar las ganancias de cada pozo\n",
    "    fig, ax = plt.subplots()\n",
    "    ax.bar(range(len(profits)), profits)\n",
    "    ax.set_xlabel('Pozo')\n",
    "    ax.set_ylabel('Ganancia')\n",
    "    ax.set_title('Ganancias de cada pozo - Región {}'.format(n))\n",
    "    plt.show()\n",
    "    \n",
    "    mean_profits.append(mean)\n",
    "    \n",
    "    n += 1\n",
    "\n",
    "# Comparación final de ganancia por región\n",
    "fig, ax = plt.subplots()\n",
    "regions = np.arange(len(mean_profits))\n",
    "ax.bar(regions, mean_profits)\n",
    "ax.set_xlabel('Región')\n",
    "ax.set_ylabel('Ganancia promedio')\n",
    "ax.set_title('Comparación de ganancia promedio por región')\n",
    "ax.set_xticks(regions)\n",
    "plt.show()\n",
    "\n"
   ]
  },
  {
   "cell_type": "markdown",
   "metadata": {},
   "source": [
    "<div class=\"alert alert-block alert-success\">\n",
    "<b>Éxito</b> <a class=\"tocSkip\"></a>\n",
    "\n",
    "Excelente bucle y gráficas arriba, felicidades    \n",
    "</div>"
   ]
  },
  {
   "cell_type": "markdown",
   "metadata": {},
   "source": [
    "## Conclusiones\n",
    "\n",
    "Después de analizar los datos disponibles y aplicar el modelo de regresión lineal, llegamos a las siguientes conclusiones:\n",
    "\n",
    "Identificación de variables clave: El modelo de regresión lineal nos permitió identificar las variables (f0, f1, f2) que influyen en la productividad y rentabilidad de los pozos mineros. Estas variables son cruciales para la toma de decisiones estratégicas en la selección de la ubicación del nuevo pozo.\n",
    "\n",
    "Evaluación del potencial de ganancias: Utilizando el modelo, realizamos predicciones sobre los posibles rendimientos de los pozos en cada región. Observamos que la región 1 tiene el mayor promedio de reservas de petróleo, seguida de la región 2 y la región 0. Esto indica que la región 1 puede ofrecer mayores oportunidades de ganancias para OilyGiant.\n",
    "\n",
    "Evaluación de los riesgos: Además de las ganancias potenciales, también consideramos los riesgos asociados a cada región. Calculamos el error cuadrático medio (ECM) y el error cuadrático medio raíz (RECM) para evaluar la precisión de nuestras predicciones. Observamos que la región 0 tiene el RECM más bajo, lo que indica una menor variabilidad en las reservas estimadas. Esto sugiere que la región 0 puede presentar menos riesgos en términos de volatilidad en comparación con las otras regiones.\n",
    "\n",
    "En base a estas conclusiones, recomendamos a OilyGiant considerar la región 1 como la ubicación más adecuada para establecer el nuevo pozo minero. Si bien la región 0 muestra una menor variabilidad y riesgo, la región 1 ofrece un mayor potencial de ganancias debido a su mayor promedio de reservas de petróleo. Sin embargo, es importante tener en cuenta otros factores y realizar un análisis más completo antes de tomar una decisión final.\n",
    "\n",
    "En general, el uso del modelo de regresión lineal nos proporcionó información valiosa respaldada por datos para la toma de decisiones estratégicas en la selección del mejor lugar para el nuevo pozo minero, permitiendo a OilyGiant optimizar sus operaciones mineras y maximizar sus ganancias.\n"
   ]
  },
  {
   "cell_type": "markdown",
   "metadata": {},
   "source": [
    "<div class=\"alert alert-block alert-success\">\n",
    "<b>Éxito</b> <a class=\"tocSkip\"></a>\n",
    "\n",
    "Correctas conclusiones finales    \n",
    "</div>"
   ]
  },
  {
   "cell_type": "code",
   "execution_count": null,
   "metadata": {},
   "outputs": [],
   "source": []
  }
 ],
 "metadata": {
  "kernelspec": {
   "display_name": "Python 3 (ipykernel)",
   "language": "python",
   "name": "python3"
  },
  "language_info": {
   "codemirror_mode": {
    "name": "ipython",
    "version": 3
   },
   "file_extension": ".py",
   "mimetype": "text/x-python",
   "name": "python",
   "nbconvert_exporter": "python",
   "pygments_lexer": "ipython3",
   "version": "3.9.5"
  },
  "toc": {
   "base_numbering": 1,
   "nav_menu": {},
   "number_sections": true,
   "sideBar": true,
   "skip_h1_title": true,
   "title_cell": "Table of Contents",
   "title_sidebar": "Contents",
   "toc_cell": false,
   "toc_position": {},
   "toc_section_display": true,
   "toc_window_display": false
  }
 },
 "nbformat": 4,
 "nbformat_minor": 2
}
