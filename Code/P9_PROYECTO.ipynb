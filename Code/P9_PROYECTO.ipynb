{
 "cells": [
  {
   "attachments": {},
   "cell_type": "markdown",
   "metadata": {},
   "source": [
    "# Oily Giant Compañía minera\n",
    "\n",
    "Objetivo: seleccionar tres regiones dadas, la que de el margen de mejor beneficio y menos riesgos para el desarrollo de un nuevo pozo."
   ]
  },
  {
   "cell_type": "code",
   "execution_count": 1,
   "metadata": {},
   "outputs": [],
   "source": [
    "import pandas as pd\n",
    "import numpy as np\n",
    "import matplotlib.pyplot as plt\n",
    "from sklearn.model_selection import train_test_split\n",
    "from sklearn.linear_model import LinearRegression\n",
    "from sklearn.linear_model import LogisticRegression\n",
    "from sklearn.preprocessing import OrdinalEncoder \n",
    "from sklearn.preprocessing import StandardScaler\n",
    "from sklearn.metrics import accuracy_score\n",
    "from sklearn.metrics import mean_squared_error\n",
    "from sklearn.metrics import mean_absolute_error\n",
    "from sklearn.metrics import confusion_matrix\n",
    "from sklearn.metrics import recall_score \n",
    "from sklearn.metrics import precision_score \n",
    "from sklearn.metrics import f1_score \n",
    "from sklearn.utils import shuffle\n",
    "from sklearn.metrics import roc_curve\n",
    "from sklearn.metrics import roc_auc_score\n",
    "from sklearn.metrics import precision_recall_curve\n",
    "from numpy.random import RandomState"
   ]
  },
  {
   "cell_type": "code",
   "execution_count": 2,
   "metadata": {},
   "outputs": [],
   "source": [
    "data_0 = pd.read_csv('datasets/geo_data_0.csv')\n",
    "data_1 = pd.read_csv('datasets/geo_data_1.csv')\n",
    "data_2 = pd.read_csv('datasets/geo_data_2.csv')"
   ]
  },
  {
   "attachments": {},
   "cell_type": "markdown",
   "metadata": {},
   "source": [
    "# Preparar los datos:\n",
    "Se revisan los datos:"
   ]
  },
  {
   "cell_type": "code",
   "execution_count": 3,
   "metadata": {},
   "outputs": [
    {
     "data": {
      "text/plain": [
       "'---------*** Revisando INFO: data_0 ***----------------------'"
      ]
     },
     "metadata": {},
     "output_type": "display_data"
    },
    {
     "name": "stdout",
     "output_type": "stream",
     "text": [
      "<class 'pandas.core.frame.DataFrame'>\n",
      "RangeIndex: 100000 entries, 0 to 99999\n",
      "Data columns (total 5 columns):\n",
      " #   Column   Non-Null Count   Dtype  \n",
      "---  ------   --------------   -----  \n",
      " 0   id       100000 non-null  object \n",
      " 1   f0       100000 non-null  float64\n",
      " 2   f1       100000 non-null  float64\n",
      " 3   f2       100000 non-null  float64\n",
      " 4   product  100000 non-null  float64\n",
      "dtypes: float64(4), object(1)\n",
      "memory usage: 3.8+ MB\n"
     ]
    },
    {
     "data": {
      "text/plain": [
       "None"
      ]
     },
     "metadata": {},
     "output_type": "display_data"
    },
    {
     "data": {
      "text/plain": [
       "'---------*** MUESTRA: data_0 ***----------------------'"
      ]
     },
     "metadata": {},
     "output_type": "display_data"
    },
    {
     "data": {
      "text/html": [
       "<div>\n",
       "<style scoped>\n",
       "    .dataframe tbody tr th:only-of-type {\n",
       "        vertical-align: middle;\n",
       "    }\n",
       "\n",
       "    .dataframe tbody tr th {\n",
       "        vertical-align: top;\n",
       "    }\n",
       "\n",
       "    .dataframe thead th {\n",
       "        text-align: right;\n",
       "    }\n",
       "</style>\n",
       "<table border=\"1\" class=\"dataframe\">\n",
       "  <thead>\n",
       "    <tr style=\"text-align: right;\">\n",
       "      <th></th>\n",
       "      <th>id</th>\n",
       "      <th>f0</th>\n",
       "      <th>f1</th>\n",
       "      <th>f2</th>\n",
       "      <th>product</th>\n",
       "    </tr>\n",
       "  </thead>\n",
       "  <tbody>\n",
       "    <tr>\n",
       "      <th>0</th>\n",
       "      <td>txEyH</td>\n",
       "      <td>0.705745</td>\n",
       "      <td>-0.497823</td>\n",
       "      <td>1.221170</td>\n",
       "      <td>105.280062</td>\n",
       "    </tr>\n",
       "    <tr>\n",
       "      <th>1</th>\n",
       "      <td>2acmU</td>\n",
       "      <td>1.334711</td>\n",
       "      <td>-0.340164</td>\n",
       "      <td>4.365080</td>\n",
       "      <td>73.037750</td>\n",
       "    </tr>\n",
       "    <tr>\n",
       "      <th>2</th>\n",
       "      <td>409Wp</td>\n",
       "      <td>1.022732</td>\n",
       "      <td>0.151990</td>\n",
       "      <td>1.419926</td>\n",
       "      <td>85.265647</td>\n",
       "    </tr>\n",
       "    <tr>\n",
       "      <th>3</th>\n",
       "      <td>iJLyR</td>\n",
       "      <td>-0.032172</td>\n",
       "      <td>0.139033</td>\n",
       "      <td>2.978566</td>\n",
       "      <td>168.620776</td>\n",
       "    </tr>\n",
       "    <tr>\n",
       "      <th>4</th>\n",
       "      <td>Xdl7t</td>\n",
       "      <td>1.988431</td>\n",
       "      <td>0.155413</td>\n",
       "      <td>4.751769</td>\n",
       "      <td>154.036647</td>\n",
       "    </tr>\n",
       "  </tbody>\n",
       "</table>\n",
       "</div>"
      ],
      "text/plain": [
       "      id        f0        f1        f2     product\n",
       "0  txEyH  0.705745 -0.497823  1.221170  105.280062\n",
       "1  2acmU  1.334711 -0.340164  4.365080   73.037750\n",
       "2  409Wp  1.022732  0.151990  1.419926   85.265647\n",
       "3  iJLyR -0.032172  0.139033  2.978566  168.620776\n",
       "4  Xdl7t  1.988431  0.155413  4.751769  154.036647"
      ]
     },
     "metadata": {},
     "output_type": "display_data"
    },
    {
     "data": {
      "text/plain": [
       "'---------*** ESTADÍSTICOS: data_0 ***----------------------'"
      ]
     },
     "metadata": {},
     "output_type": "display_data"
    },
    {
     "data": {
      "text/html": [
       "<div>\n",
       "<style scoped>\n",
       "    .dataframe tbody tr th:only-of-type {\n",
       "        vertical-align: middle;\n",
       "    }\n",
       "\n",
       "    .dataframe tbody tr th {\n",
       "        vertical-align: top;\n",
       "    }\n",
       "\n",
       "    .dataframe thead th {\n",
       "        text-align: right;\n",
       "    }\n",
       "</style>\n",
       "<table border=\"1\" class=\"dataframe\">\n",
       "  <thead>\n",
       "    <tr style=\"text-align: right;\">\n",
       "      <th></th>\n",
       "      <th>f0</th>\n",
       "      <th>f1</th>\n",
       "      <th>f2</th>\n",
       "      <th>product</th>\n",
       "    </tr>\n",
       "  </thead>\n",
       "  <tbody>\n",
       "    <tr>\n",
       "      <th>count</th>\n",
       "      <td>100000.0</td>\n",
       "      <td>100000.0</td>\n",
       "      <td>100000.0</td>\n",
       "      <td>100000.0</td>\n",
       "    </tr>\n",
       "    <tr>\n",
       "      <th>mean</th>\n",
       "      <td>1.0</td>\n",
       "      <td>0.0</td>\n",
       "      <td>3.0</td>\n",
       "      <td>93.0</td>\n",
       "    </tr>\n",
       "    <tr>\n",
       "      <th>std</th>\n",
       "      <td>1.0</td>\n",
       "      <td>1.0</td>\n",
       "      <td>3.0</td>\n",
       "      <td>44.0</td>\n",
       "    </tr>\n",
       "    <tr>\n",
       "      <th>min</th>\n",
       "      <td>-1.0</td>\n",
       "      <td>-1.0</td>\n",
       "      <td>-12.0</td>\n",
       "      <td>0.0</td>\n",
       "    </tr>\n",
       "    <tr>\n",
       "      <th>25%</th>\n",
       "      <td>-0.0</td>\n",
       "      <td>-0.0</td>\n",
       "      <td>0.0</td>\n",
       "      <td>56.0</td>\n",
       "    </tr>\n",
       "    <tr>\n",
       "      <th>50%</th>\n",
       "      <td>1.0</td>\n",
       "      <td>0.0</td>\n",
       "      <td>3.0</td>\n",
       "      <td>92.0</td>\n",
       "    </tr>\n",
       "    <tr>\n",
       "      <th>75%</th>\n",
       "      <td>1.0</td>\n",
       "      <td>1.0</td>\n",
       "      <td>5.0</td>\n",
       "      <td>129.0</td>\n",
       "    </tr>\n",
       "    <tr>\n",
       "      <th>max</th>\n",
       "      <td>2.0</td>\n",
       "      <td>1.0</td>\n",
       "      <td>16.0</td>\n",
       "      <td>185.0</td>\n",
       "    </tr>\n",
       "  </tbody>\n",
       "</table>\n",
       "</div>"
      ],
      "text/plain": [
       "             f0        f1        f2   product\n",
       "count  100000.0  100000.0  100000.0  100000.0\n",
       "mean        1.0       0.0       3.0      93.0\n",
       "std         1.0       1.0       3.0      44.0\n",
       "min        -1.0      -1.0     -12.0       0.0\n",
       "25%        -0.0      -0.0       0.0      56.0\n",
       "50%         1.0       0.0       3.0      92.0\n",
       "75%         1.0       1.0       5.0     129.0\n",
       "max         2.0       1.0      16.0     185.0"
      ]
     },
     "metadata": {},
     "output_type": "display_data"
    },
    {
     "data": {
      "text/plain": [
       "'---------*** VALORES NULOS: data_0 ***----------------------'"
      ]
     },
     "metadata": {},
     "output_type": "display_data"
    },
    {
     "data": {
      "text/plain": [
       "id         0\n",
       "f0         0\n",
       "f1         0\n",
       "f2         0\n",
       "product    0\n",
       "dtype: int64"
      ]
     },
     "metadata": {},
     "output_type": "display_data"
    },
    {
     "data": {
      "text/plain": [
       "'---------*** TOTAL DE VALORES: data_0 ***----------------------'"
      ]
     },
     "metadata": {},
     "output_type": "display_data"
    },
    {
     "data": {
      "text/plain": [
       "(100000, 5)"
      ]
     },
     "metadata": {},
     "output_type": "display_data"
    }
   ],
   "source": [
    "# 1. data_0\n",
    "display ('---------*** Revisando INFO: data_0 ***----------------------')\n",
    "display( data_0.info())\n",
    "display ('---------*** MUESTRA: data_0 ***----------------------')\n",
    "display(data_0.head())\n",
    "display ('---------*** ESTADÍSTICOS: data_0 ***----------------------')\n",
    "display(data_0.describe().round())\n",
    "display ('---------*** VALORES NULOS: data_0 ***----------------------')\n",
    "display(data_0.isna().sum())\n",
    "display ('---------*** TOTAL DE VALORES: data_0 ***----------------------')\n",
    "display(data_0.shape)\n",
    "        "
   ]
  },
  {
   "cell_type": "code",
   "execution_count": 4,
   "metadata": {},
   "outputs": [
    {
     "data": {
      "text/plain": [
       "'---------*** Revisando INFO: data_1 ***----------------------'"
      ]
     },
     "metadata": {},
     "output_type": "display_data"
    },
    {
     "name": "stdout",
     "output_type": "stream",
     "text": [
      "<class 'pandas.core.frame.DataFrame'>\n",
      "RangeIndex: 100000 entries, 0 to 99999\n",
      "Data columns (total 5 columns):\n",
      " #   Column   Non-Null Count   Dtype  \n",
      "---  ------   --------------   -----  \n",
      " 0   id       100000 non-null  object \n",
      " 1   f0       100000 non-null  float64\n",
      " 2   f1       100000 non-null  float64\n",
      " 3   f2       100000 non-null  float64\n",
      " 4   product  100000 non-null  float64\n",
      "dtypes: float64(4), object(1)\n",
      "memory usage: 3.8+ MB\n"
     ]
    },
    {
     "data": {
      "text/plain": [
       "None"
      ]
     },
     "metadata": {},
     "output_type": "display_data"
    },
    {
     "data": {
      "text/plain": [
       "'---------*** MUESTRA: data_1 ***----------------------'"
      ]
     },
     "metadata": {},
     "output_type": "display_data"
    },
    {
     "data": {
      "text/html": [
       "<div>\n",
       "<style scoped>\n",
       "    .dataframe tbody tr th:only-of-type {\n",
       "        vertical-align: middle;\n",
       "    }\n",
       "\n",
       "    .dataframe tbody tr th {\n",
       "        vertical-align: top;\n",
       "    }\n",
       "\n",
       "    .dataframe thead th {\n",
       "        text-align: right;\n",
       "    }\n",
       "</style>\n",
       "<table border=\"1\" class=\"dataframe\">\n",
       "  <thead>\n",
       "    <tr style=\"text-align: right;\">\n",
       "      <th></th>\n",
       "      <th>id</th>\n",
       "      <th>f0</th>\n",
       "      <th>f1</th>\n",
       "      <th>f2</th>\n",
       "      <th>product</th>\n",
       "    </tr>\n",
       "  </thead>\n",
       "  <tbody>\n",
       "    <tr>\n",
       "      <th>0</th>\n",
       "      <td>kBEdx</td>\n",
       "      <td>-15.001348</td>\n",
       "      <td>-8.276000</td>\n",
       "      <td>-0.005876</td>\n",
       "      <td>3.179103</td>\n",
       "    </tr>\n",
       "    <tr>\n",
       "      <th>1</th>\n",
       "      <td>62mP7</td>\n",
       "      <td>14.272088</td>\n",
       "      <td>-3.475083</td>\n",
       "      <td>0.999183</td>\n",
       "      <td>26.953261</td>\n",
       "    </tr>\n",
       "    <tr>\n",
       "      <th>2</th>\n",
       "      <td>vyE1P</td>\n",
       "      <td>6.263187</td>\n",
       "      <td>-5.948386</td>\n",
       "      <td>5.001160</td>\n",
       "      <td>134.766305</td>\n",
       "    </tr>\n",
       "    <tr>\n",
       "      <th>3</th>\n",
       "      <td>KcrkZ</td>\n",
       "      <td>-13.081196</td>\n",
       "      <td>-11.506057</td>\n",
       "      <td>4.999415</td>\n",
       "      <td>137.945408</td>\n",
       "    </tr>\n",
       "    <tr>\n",
       "      <th>4</th>\n",
       "      <td>AHL4O</td>\n",
       "      <td>12.702195</td>\n",
       "      <td>-8.147433</td>\n",
       "      <td>5.004363</td>\n",
       "      <td>134.766305</td>\n",
       "    </tr>\n",
       "  </tbody>\n",
       "</table>\n",
       "</div>"
      ],
      "text/plain": [
       "      id         f0         f1        f2     product\n",
       "0  kBEdx -15.001348  -8.276000 -0.005876    3.179103\n",
       "1  62mP7  14.272088  -3.475083  0.999183   26.953261\n",
       "2  vyE1P   6.263187  -5.948386  5.001160  134.766305\n",
       "3  KcrkZ -13.081196 -11.506057  4.999415  137.945408\n",
       "4  AHL4O  12.702195  -8.147433  5.004363  134.766305"
      ]
     },
     "metadata": {},
     "output_type": "display_data"
    },
    {
     "data": {
      "text/plain": [
       "'---------*** ESTADÍSTICOS: data_1 ***----------------------'"
      ]
     },
     "metadata": {},
     "output_type": "display_data"
    },
    {
     "data": {
      "text/html": [
       "<div>\n",
       "<style scoped>\n",
       "    .dataframe tbody tr th:only-of-type {\n",
       "        vertical-align: middle;\n",
       "    }\n",
       "\n",
       "    .dataframe tbody tr th {\n",
       "        vertical-align: top;\n",
       "    }\n",
       "\n",
       "    .dataframe thead th {\n",
       "        text-align: right;\n",
       "    }\n",
       "</style>\n",
       "<table border=\"1\" class=\"dataframe\">\n",
       "  <thead>\n",
       "    <tr style=\"text-align: right;\">\n",
       "      <th></th>\n",
       "      <th>f0</th>\n",
       "      <th>f1</th>\n",
       "      <th>f2</th>\n",
       "      <th>product</th>\n",
       "    </tr>\n",
       "  </thead>\n",
       "  <tbody>\n",
       "    <tr>\n",
       "      <th>count</th>\n",
       "      <td>100000.0</td>\n",
       "      <td>100000.0</td>\n",
       "      <td>100000.0</td>\n",
       "      <td>100000.0</td>\n",
       "    </tr>\n",
       "    <tr>\n",
       "      <th>mean</th>\n",
       "      <td>1.0</td>\n",
       "      <td>-5.0</td>\n",
       "      <td>2.0</td>\n",
       "      <td>69.0</td>\n",
       "    </tr>\n",
       "    <tr>\n",
       "      <th>std</th>\n",
       "      <td>9.0</td>\n",
       "      <td>5.0</td>\n",
       "      <td>2.0</td>\n",
       "      <td>46.0</td>\n",
       "    </tr>\n",
       "    <tr>\n",
       "      <th>min</th>\n",
       "      <td>-32.0</td>\n",
       "      <td>-26.0</td>\n",
       "      <td>-0.0</td>\n",
       "      <td>0.0</td>\n",
       "    </tr>\n",
       "    <tr>\n",
       "      <th>25%</th>\n",
       "      <td>-6.0</td>\n",
       "      <td>-8.0</td>\n",
       "      <td>1.0</td>\n",
       "      <td>27.0</td>\n",
       "    </tr>\n",
       "    <tr>\n",
       "      <th>50%</th>\n",
       "      <td>1.0</td>\n",
       "      <td>-5.0</td>\n",
       "      <td>2.0</td>\n",
       "      <td>57.0</td>\n",
       "    </tr>\n",
       "    <tr>\n",
       "      <th>75%</th>\n",
       "      <td>9.0</td>\n",
       "      <td>-1.0</td>\n",
       "      <td>4.0</td>\n",
       "      <td>108.0</td>\n",
       "    </tr>\n",
       "    <tr>\n",
       "      <th>max</th>\n",
       "      <td>29.0</td>\n",
       "      <td>19.0</td>\n",
       "      <td>5.0</td>\n",
       "      <td>138.0</td>\n",
       "    </tr>\n",
       "  </tbody>\n",
       "</table>\n",
       "</div>"
      ],
      "text/plain": [
       "             f0        f1        f2   product\n",
       "count  100000.0  100000.0  100000.0  100000.0\n",
       "mean        1.0      -5.0       2.0      69.0\n",
       "std         9.0       5.0       2.0      46.0\n",
       "min       -32.0     -26.0      -0.0       0.0\n",
       "25%        -6.0      -8.0       1.0      27.0\n",
       "50%         1.0      -5.0       2.0      57.0\n",
       "75%         9.0      -1.0       4.0     108.0\n",
       "max        29.0      19.0       5.0     138.0"
      ]
     },
     "metadata": {},
     "output_type": "display_data"
    },
    {
     "data": {
      "text/plain": [
       "'---------*** VALORES NULOS: data_1 ***----------------------'"
      ]
     },
     "metadata": {},
     "output_type": "display_data"
    },
    {
     "data": {
      "text/plain": [
       "id         0\n",
       "f0         0\n",
       "f1         0\n",
       "f2         0\n",
       "product    0\n",
       "dtype: int64"
      ]
     },
     "metadata": {},
     "output_type": "display_data"
    },
    {
     "data": {
      "text/plain": [
       "'---------*** TOTAL DE VALORES: data_1 ***----------------------'"
      ]
     },
     "metadata": {},
     "output_type": "display_data"
    },
    {
     "data": {
      "text/plain": [
       "(100000, 5)"
      ]
     },
     "metadata": {},
     "output_type": "display_data"
    }
   ],
   "source": [
    "# 2. data_1\n",
    "display ('---------*** Revisando INFO: data_1 ***----------------------')\n",
    "display( data_1.info())\n",
    "display ('---------*** MUESTRA: data_1 ***----------------------')\n",
    "display(data_1.head())\n",
    "display ('---------*** ESTADÍSTICOS: data_1 ***----------------------')\n",
    "display(data_1.describe().round())\n",
    "display ('---------*** VALORES NULOS: data_1 ***----------------------')\n",
    "display(data_1.isna().sum())\n",
    "display ('---------*** TOTAL DE VALORES: data_1 ***----------------------')\n",
    "display(data_1.shape)\n",
    "        "
   ]
  },
  {
   "cell_type": "code",
   "execution_count": 5,
   "metadata": {},
   "outputs": [
    {
     "data": {
      "text/plain": [
       "'---------*** Revisando INFO: data_2 ***----------------------'"
      ]
     },
     "metadata": {},
     "output_type": "display_data"
    },
    {
     "name": "stdout",
     "output_type": "stream",
     "text": [
      "<class 'pandas.core.frame.DataFrame'>\n",
      "RangeIndex: 100000 entries, 0 to 99999\n",
      "Data columns (total 5 columns):\n",
      " #   Column   Non-Null Count   Dtype  \n",
      "---  ------   --------------   -----  \n",
      " 0   id       100000 non-null  object \n",
      " 1   f0       100000 non-null  float64\n",
      " 2   f1       100000 non-null  float64\n",
      " 3   f2       100000 non-null  float64\n",
      " 4   product  100000 non-null  float64\n",
      "dtypes: float64(4), object(1)\n",
      "memory usage: 3.8+ MB\n"
     ]
    },
    {
     "data": {
      "text/plain": [
       "None"
      ]
     },
     "metadata": {},
     "output_type": "display_data"
    },
    {
     "data": {
      "text/plain": [
       "'---------*** MUESTRA: data_2 ***----------------------'"
      ]
     },
     "metadata": {},
     "output_type": "display_data"
    },
    {
     "data": {
      "text/html": [
       "<div>\n",
       "<style scoped>\n",
       "    .dataframe tbody tr th:only-of-type {\n",
       "        vertical-align: middle;\n",
       "    }\n",
       "\n",
       "    .dataframe tbody tr th {\n",
       "        vertical-align: top;\n",
       "    }\n",
       "\n",
       "    .dataframe thead th {\n",
       "        text-align: right;\n",
       "    }\n",
       "</style>\n",
       "<table border=\"1\" class=\"dataframe\">\n",
       "  <thead>\n",
       "    <tr style=\"text-align: right;\">\n",
       "      <th></th>\n",
       "      <th>id</th>\n",
       "      <th>f0</th>\n",
       "      <th>f1</th>\n",
       "      <th>f2</th>\n",
       "      <th>product</th>\n",
       "    </tr>\n",
       "  </thead>\n",
       "  <tbody>\n",
       "    <tr>\n",
       "      <th>0</th>\n",
       "      <td>fwXo0</td>\n",
       "      <td>-1.146987</td>\n",
       "      <td>0.963328</td>\n",
       "      <td>-0.828965</td>\n",
       "      <td>27.758673</td>\n",
       "    </tr>\n",
       "    <tr>\n",
       "      <th>1</th>\n",
       "      <td>WJtFt</td>\n",
       "      <td>0.262778</td>\n",
       "      <td>0.269839</td>\n",
       "      <td>-2.530187</td>\n",
       "      <td>56.069697</td>\n",
       "    </tr>\n",
       "    <tr>\n",
       "      <th>2</th>\n",
       "      <td>ovLUW</td>\n",
       "      <td>0.194587</td>\n",
       "      <td>0.289035</td>\n",
       "      <td>-5.586433</td>\n",
       "      <td>62.871910</td>\n",
       "    </tr>\n",
       "    <tr>\n",
       "      <th>3</th>\n",
       "      <td>q6cA6</td>\n",
       "      <td>2.236060</td>\n",
       "      <td>-0.553760</td>\n",
       "      <td>0.930038</td>\n",
       "      <td>114.572842</td>\n",
       "    </tr>\n",
       "    <tr>\n",
       "      <th>4</th>\n",
       "      <td>WPMUX</td>\n",
       "      <td>-0.515993</td>\n",
       "      <td>1.716266</td>\n",
       "      <td>5.899011</td>\n",
       "      <td>149.600746</td>\n",
       "    </tr>\n",
       "  </tbody>\n",
       "</table>\n",
       "</div>"
      ],
      "text/plain": [
       "      id        f0        f1        f2     product\n",
       "0  fwXo0 -1.146987  0.963328 -0.828965   27.758673\n",
       "1  WJtFt  0.262778  0.269839 -2.530187   56.069697\n",
       "2  ovLUW  0.194587  0.289035 -5.586433   62.871910\n",
       "3  q6cA6  2.236060 -0.553760  0.930038  114.572842\n",
       "4  WPMUX -0.515993  1.716266  5.899011  149.600746"
      ]
     },
     "metadata": {},
     "output_type": "display_data"
    },
    {
     "data": {
      "text/plain": [
       "'---------*** ESTADÍSTICOS: data_2 ***----------------------'"
      ]
     },
     "metadata": {},
     "output_type": "display_data"
    },
    {
     "data": {
      "text/html": [
       "<div>\n",
       "<style scoped>\n",
       "    .dataframe tbody tr th:only-of-type {\n",
       "        vertical-align: middle;\n",
       "    }\n",
       "\n",
       "    .dataframe tbody tr th {\n",
       "        vertical-align: top;\n",
       "    }\n",
       "\n",
       "    .dataframe thead th {\n",
       "        text-align: right;\n",
       "    }\n",
       "</style>\n",
       "<table border=\"1\" class=\"dataframe\">\n",
       "  <thead>\n",
       "    <tr style=\"text-align: right;\">\n",
       "      <th></th>\n",
       "      <th>f0</th>\n",
       "      <th>f1</th>\n",
       "      <th>f2</th>\n",
       "      <th>product</th>\n",
       "    </tr>\n",
       "  </thead>\n",
       "  <tbody>\n",
       "    <tr>\n",
       "      <th>count</th>\n",
       "      <td>100000.0</td>\n",
       "      <td>100000.0</td>\n",
       "      <td>100000.0</td>\n",
       "      <td>100000.0</td>\n",
       "    </tr>\n",
       "    <tr>\n",
       "      <th>mean</th>\n",
       "      <td>0.0</td>\n",
       "      <td>-0.0</td>\n",
       "      <td>2.0</td>\n",
       "      <td>95.0</td>\n",
       "    </tr>\n",
       "    <tr>\n",
       "      <th>std</th>\n",
       "      <td>2.0</td>\n",
       "      <td>2.0</td>\n",
       "      <td>3.0</td>\n",
       "      <td>45.0</td>\n",
       "    </tr>\n",
       "    <tr>\n",
       "      <th>min</th>\n",
       "      <td>-9.0</td>\n",
       "      <td>-7.0</td>\n",
       "      <td>-12.0</td>\n",
       "      <td>0.0</td>\n",
       "    </tr>\n",
       "    <tr>\n",
       "      <th>25%</th>\n",
       "      <td>-1.0</td>\n",
       "      <td>-1.0</td>\n",
       "      <td>0.0</td>\n",
       "      <td>59.0</td>\n",
       "    </tr>\n",
       "    <tr>\n",
       "      <th>50%</th>\n",
       "      <td>0.0</td>\n",
       "      <td>-0.0</td>\n",
       "      <td>2.0</td>\n",
       "      <td>95.0</td>\n",
       "    </tr>\n",
       "    <tr>\n",
       "      <th>75%</th>\n",
       "      <td>1.0</td>\n",
       "      <td>1.0</td>\n",
       "      <td>5.0</td>\n",
       "      <td>131.0</td>\n",
       "    </tr>\n",
       "    <tr>\n",
       "      <th>max</th>\n",
       "      <td>7.0</td>\n",
       "      <td>8.0</td>\n",
       "      <td>17.0</td>\n",
       "      <td>190.0</td>\n",
       "    </tr>\n",
       "  </tbody>\n",
       "</table>\n",
       "</div>"
      ],
      "text/plain": [
       "             f0        f1        f2   product\n",
       "count  100000.0  100000.0  100000.0  100000.0\n",
       "mean        0.0      -0.0       2.0      95.0\n",
       "std         2.0       2.0       3.0      45.0\n",
       "min        -9.0      -7.0     -12.0       0.0\n",
       "25%        -1.0      -1.0       0.0      59.0\n",
       "50%         0.0      -0.0       2.0      95.0\n",
       "75%         1.0       1.0       5.0     131.0\n",
       "max         7.0       8.0      17.0     190.0"
      ]
     },
     "metadata": {},
     "output_type": "display_data"
    },
    {
     "data": {
      "text/plain": [
       "'---------*** VALORES NULOS: data_2 ***----------------------'"
      ]
     },
     "metadata": {},
     "output_type": "display_data"
    },
    {
     "data": {
      "text/plain": [
       "id         0\n",
       "f0         0\n",
       "f1         0\n",
       "f2         0\n",
       "product    0\n",
       "dtype: int64"
      ]
     },
     "metadata": {},
     "output_type": "display_data"
    },
    {
     "data": {
      "text/plain": [
       "'---------*** TOTAL DE VALORES: data_2 ***----------------------'"
      ]
     },
     "metadata": {},
     "output_type": "display_data"
    },
    {
     "data": {
      "text/plain": [
       "(100000, 5)"
      ]
     },
     "metadata": {},
     "output_type": "display_data"
    }
   ],
   "source": [
    "# 3. data_2\n",
    "display ('---------*** Revisando INFO: data_2 ***----------------------')\n",
    "display( data_2.info())\n",
    "display ('---------*** MUESTRA: data_2 ***----------------------')\n",
    "display(data_2.head())\n",
    "display ('---------*** ESTADÍSTICOS: data_2 ***----------------------')\n",
    "display(data_2.describe().round())\n",
    "display ('---------*** VALORES NULOS: data_2 ***----------------------')\n",
    "display(data_2.isna().sum())\n",
    "display ('---------*** TOTAL DE VALORES: data_2 ***----------------------')\n",
    "display(data_2.shape)\n",
    "        "
   ]
  },
  {
   "attachments": {},
   "cell_type": "markdown",
   "metadata": {},
   "source": [
    "De cada uno de los datos se identifica: \n",
    "- Están completos y presentan la misma cantidad de datos: 100,000 valores con 5 columnas: id\tf0\tf1\tf2\tproduct.\n",
    "- La columna id es categórica y al no ser relevante para el análisis del modelo se considera de gran ventaja eliminarla.\n",
    "- Se hara una lista con los datos de los 3 df: \n",
    "    - data_012 = [ data_0, data_1, data_2]\n"
   ]
  },
  {
   "cell_type": "code",
   "execution_count": 6,
   "metadata": {},
   "outputs": [],
   "source": [
    "# Se elimina la columna de id de los datasets\n",
    "data_0=data_0.drop('id', axis=1)\n",
    "data_1=data_1.drop('id', axis=1)\n",
    "data_2=data_2.drop('id', axis=1)\n"
   ]
  },
  {
   "cell_type": "code",
   "execution_count": 7,
   "metadata": {},
   "outputs": [
    {
     "name": "stdout",
     "output_type": "stream",
     "text": [
      "<class 'pandas.core.frame.DataFrame'>\n",
      "RangeIndex: 100000 entries, 0 to 99999\n",
      "Data columns (total 4 columns):\n",
      " #   Column   Non-Null Count   Dtype  \n",
      "---  ------   --------------   -----  \n",
      " 0   f0       100000 non-null  float64\n",
      " 1   f1       100000 non-null  float64\n",
      " 2   f2       100000 non-null  float64\n",
      " 3   product  100000 non-null  float64\n",
      "dtypes: float64(4)\n",
      "memory usage: 3.1 MB\n"
     ]
    }
   ],
   "source": [
    "#Se crea la lista agrupando los datasets\n",
    "data=[data_0,data_1,data_2]\n",
    "data[0].info()\n"
   ]
  },
  {
   "cell_type": "code",
   "execution_count": 8,
   "metadata": {},
   "outputs": [
    {
     "data": {
      "text/html": [
       "<div>\n",
       "<style scoped>\n",
       "    .dataframe tbody tr th:only-of-type {\n",
       "        vertical-align: middle;\n",
       "    }\n",
       "\n",
       "    .dataframe tbody tr th {\n",
       "        vertical-align: top;\n",
       "    }\n",
       "\n",
       "    .dataframe thead th {\n",
       "        text-align: right;\n",
       "    }\n",
       "</style>\n",
       "<table border=\"1\" class=\"dataframe\">\n",
       "  <thead>\n",
       "    <tr style=\"text-align: right;\">\n",
       "      <th></th>\n",
       "      <th>f0</th>\n",
       "      <th>f1</th>\n",
       "      <th>f2</th>\n",
       "      <th>product</th>\n",
       "    </tr>\n",
       "  </thead>\n",
       "  <tbody>\n",
       "    <tr>\n",
       "      <th>0</th>\n",
       "      <td>0.705745</td>\n",
       "      <td>-0.497823</td>\n",
       "      <td>1.221170</td>\n",
       "      <td>105.280062</td>\n",
       "    </tr>\n",
       "    <tr>\n",
       "      <th>1</th>\n",
       "      <td>1.334711</td>\n",
       "      <td>-0.340164</td>\n",
       "      <td>4.365080</td>\n",
       "      <td>73.037750</td>\n",
       "    </tr>\n",
       "    <tr>\n",
       "      <th>2</th>\n",
       "      <td>1.022732</td>\n",
       "      <td>0.151990</td>\n",
       "      <td>1.419926</td>\n",
       "      <td>85.265647</td>\n",
       "    </tr>\n",
       "    <tr>\n",
       "      <th>3</th>\n",
       "      <td>-0.032172</td>\n",
       "      <td>0.139033</td>\n",
       "      <td>2.978566</td>\n",
       "      <td>168.620776</td>\n",
       "    </tr>\n",
       "    <tr>\n",
       "      <th>4</th>\n",
       "      <td>1.988431</td>\n",
       "      <td>0.155413</td>\n",
       "      <td>4.751769</td>\n",
       "      <td>154.036647</td>\n",
       "    </tr>\n",
       "    <tr>\n",
       "      <th>...</th>\n",
       "      <td>...</td>\n",
       "      <td>...</td>\n",
       "      <td>...</td>\n",
       "      <td>...</td>\n",
       "    </tr>\n",
       "    <tr>\n",
       "      <th>99995</th>\n",
       "      <td>0.971957</td>\n",
       "      <td>0.370953</td>\n",
       "      <td>6.075346</td>\n",
       "      <td>110.744026</td>\n",
       "    </tr>\n",
       "    <tr>\n",
       "      <th>99996</th>\n",
       "      <td>1.392429</td>\n",
       "      <td>-0.382606</td>\n",
       "      <td>1.273912</td>\n",
       "      <td>122.346843</td>\n",
       "    </tr>\n",
       "    <tr>\n",
       "      <th>99997</th>\n",
       "      <td>1.029585</td>\n",
       "      <td>0.018787</td>\n",
       "      <td>-1.348308</td>\n",
       "      <td>64.375443</td>\n",
       "    </tr>\n",
       "    <tr>\n",
       "      <th>99998</th>\n",
       "      <td>0.998163</td>\n",
       "      <td>-0.528582</td>\n",
       "      <td>1.583869</td>\n",
       "      <td>74.040764</td>\n",
       "    </tr>\n",
       "    <tr>\n",
       "      <th>99999</th>\n",
       "      <td>1.764754</td>\n",
       "      <td>-0.266417</td>\n",
       "      <td>5.722849</td>\n",
       "      <td>149.633246</td>\n",
       "    </tr>\n",
       "  </tbody>\n",
       "</table>\n",
       "<p>100000 rows × 4 columns</p>\n",
       "</div>"
      ],
      "text/plain": [
       "             f0        f1        f2     product\n",
       "0      0.705745 -0.497823  1.221170  105.280062\n",
       "1      1.334711 -0.340164  4.365080   73.037750\n",
       "2      1.022732  0.151990  1.419926   85.265647\n",
       "3     -0.032172  0.139033  2.978566  168.620776\n",
       "4      1.988431  0.155413  4.751769  154.036647\n",
       "...         ...       ...       ...         ...\n",
       "99995  0.971957  0.370953  6.075346  110.744026\n",
       "99996  1.392429 -0.382606  1.273912  122.346843\n",
       "99997  1.029585  0.018787 -1.348308   64.375443\n",
       "99998  0.998163 -0.528582  1.583869   74.040764\n",
       "99999  1.764754 -0.266417  5.722849  149.633246\n",
       "\n",
       "[100000 rows x 4 columns]"
      ]
     },
     "execution_count": 8,
     "metadata": {},
     "output_type": "execute_result"
    }
   ],
   "source": [
    "data[0]\n",
    "#datos escalados"
   ]
  },
  {
   "attachments": {},
   "cell_type": "markdown",
   "metadata": {},
   "source": [
    "for df in range(len(data)):\n",
    "    data[df] = data[df].drop('id', axis=1)"
   ]
  },
  {
   "attachments": {},
   "cell_type": "markdown",
   "metadata": {},
   "source": [
    "## 1.  Modelo de regresion lineal \n"
   ]
  },
  {
   "cell_type": "code",
   "execution_count": 9,
   "metadata": {},
   "outputs": [],
   "source": [
    "state = RandomState(12345) #instancia con Random_State de numpy.random"
   ]
  },
  {
   "attachments": {},
   "cell_type": "markdown",
   "metadata": {},
   "source": [
    "### 1.1 Entrenamiento y prueba del modelo:"
   ]
  },
  {
   "cell_type": "code",
   "execution_count": 10,
   "metadata": {},
   "outputs": [
    {
     "name": "stdout",
     "output_type": "stream",
     "text": [
      "Región 0\n",
      "Promedio de las reservas: 92.50000000000001\n",
      "RECM: 37.5794217150813\n",
      "\n",
      "Región 1\n",
      "Promedio de las reservas: 68.82500000000002\n",
      "RECM: 0.889736773768065\n",
      "\n",
      "Región 2\n",
      "Promedio de las reservas: 95.00000000000004\n",
      "RECM: 39.958042459521614\n",
      "\n"
     ]
    }
   ],
   "source": [
    "targets = [] # Donde juntaremos los target de validación\n",
    "predictions = [] # Donde juntaremos las predicciones de validación\n",
    "\n",
    "\n",
    "for i in range(len(data)):\n",
    "    data_train, data_valid = train_test_split(data[i], test_size=0.25, random_state=state) # Dividmos los datos\n",
    "    features_train = data_train.drop(['product'], axis=1) # Creamos features de entrenamiento\n",
    "    target_train = data_train['product'] # Creamos targets de entrenamiento\n",
    "    features_valid = data_valid.drop(['product'], axis=1) # Creamos features de validación\n",
    "    target_valid = data_valid['product'] # Creamos target de validación\n",
    "    \n",
    "    reg = LinearRegression() # Creamos la regresión\n",
    "    reg.fit(features_train, target_train) # Entrenamos a la regresión\n",
    "\n",
    "    pred = reg.predict(features_valid) # Hacemos predicciones con el modelo\n",
    "    ecm = mean_squared_error(target_valid, pred) # Calculamos el ECM\n",
    "    recm = ecm**0.5 # Calculamos el RECM\n",
    "    mean = data[i]['product'].mean() # Calculamos el promedio\n",
    "    \n",
    "    # Agregamos las informaciones a las listas externas\n",
    "    targets.append(target_valid.reset_index(drop=True))\n",
    "    predictions.append(pd.Series(pred))\n",
    "    \n",
    "    # Imprimimos los resultados\n",
    "    print('Región', i)\n",
    "    print('Promedio de las reservas:', mean)\n",
    "    print('RECM:', recm)\n",
    "    print()"
   ]
  },
  {
   "attachments": {},
   "cell_type": "markdown",
   "metadata": {},
   "source": [
    "### Conclusiones intermedias\n",
    "Al aplicar el modelo de regresion se identifica:\n",
    "- Aunque las regiones 0 y 2 tienen mayor promedio de reservas, las desviaciones promedio de las predicciones son considerables respecto a los valores reales, siendo para la region cero un RECM de 37.81 y para la region 2 un RECM de 40.30. Nuestro modelo tiene un rendimiento menos satisfactorio para estas dos regiones.\n",
    "\n",
    "- La region 1 cuyo volumen promedio de reservas en el pozo de petroleo es de 68, el modelo de predicción resulta mas eficaz, ya que la desviación de sus predicciones son más precisas y se comprueba al tener un RECM de  .89 con respecto a los valores reales."
   ]
  },
  {
   "attachments": {},
   "cell_type": "markdown",
   "metadata": {},
   "source": [
    "## 2. Calculo de Ganancias"
   ]
  },
  {
   "attachments": {},
   "cell_type": "markdown",
   "metadata": {},
   "source": [
    "Para calcular las ganancias tenemos los siguientes datos/condiciones:\n",
    "- Al explorar la región se lleva acabo un estudio de 500 puntos.  \n",
    "\n",
    "- Para el cálculo del beneficio se seleccionan los mejores 200 puntos:\n",
    "    - Costos:\n",
    "        - El presupuesto para el desarrollo de 200 pozos de petroleo es de: 100 millones de dólares.\n",
    "        - El presupuesto por cada pozo es de 100 millonoes/200 pozos = 500,000\n",
    "    \n",
    "    - Ingresos:\n",
    "        - Un barril de materia prima genera 4.5 USD de ingresos\n",
    "        - Una unidad de producto ingresa 4500 dlls. El volumen de reserva está expresada en miles de barriles.\n",
    "\n",
    "    - Riesgo:\n",
    "        - Se mantienen las regiones con un riesgo de pérdida inferior al 2.5%. \n",
    "\n",
    "\n",
    "\n",
    "\n",
    "- De las regiones que se ajustan al criterio, se debe seleccionar la que represente el ingreso promedio mayor. \n",
    "\n",
    "        "
   ]
  },
  {
   "cell_type": "code",
   "execution_count": 11,
   "metadata": {},
   "outputs": [
    {
     "name": "stdout",
     "output_type": "stream",
     "text": [
      "Volumen de reservas minimas necesarias para desarrollar un nuevo pozo: 111.11111111111111\n",
      "\n",
      "Producto promedio en Región 0 = 92.50000000000001\n",
      "Producto promedio en Región 1 = 68.82500000000002\n",
      "Producto promedio en Región 2 = 95.00000000000004\n"
     ]
    }
   ],
   "source": [
    "\n",
    "# Variables generales\n",
    "costo_pozo = 100000000 / 200  # El presupuesto por cada pozo es de 100 millonoes/200 pozos = 500,000\n",
    "ingreso_unidadproducto = 4500  # Una unidad de producto ingresa 4500 dlls\n",
    "riesgo_max = 0.025  # Se mantienen las regiones con un riesgo de pérdida inferior al 2.5%\n",
    "\n",
    "regiones = [data_0, data_1, data_2]  # Lista de DataFrames de las regiones\n",
    "productos = []  # Lista para almacenar los productos por región\n",
    "means = []  # Lista para almacenar los promedios de producto por región\n",
    "\n",
    "# Obtener productos y promedios de cada región\n",
    "for region in regiones:\n",
    "    productos_region = region['product'].sort_values(ascending=False)\n",
    "    mean_region = region['product'].mean()\n",
    "    productos.append(productos_region)\n",
    "    means.append(mean_region)\n",
    "\n",
    "#Obtener el volumen de reserva minima para que el nuevo pozo sea costeable\n",
    "vol_reserv_min= costo_pozo/ingreso_unidadproducto\n",
    "\n",
    "# Asignar variables específicas para cada región\n",
    "product_0 = productos[0]\n",
    "mean_0 = means[0]\n",
    "\n",
    "product_1 = productos[1]\n",
    "mean_1 = means[1]\n",
    "\n",
    "product_2 = productos[2]\n",
    "mean_2 = means[2]\n",
    "\n",
    "\n",
    "\n",
    "print('Volumen de reservas minimas necesarias para desarrollar un nuevo pozo:', vol_reserv_min )\n",
    "print()\n",
    "print('Producto promedio en Región 0 =', mean_0)\n",
    "print('Producto promedio en Región 1 =', mean_1)\n",
    "print('Producto promedio en Región 2 =', mean_2)"
   ]
  },
  {
   "cell_type": "code",
   "execution_count": 12,
   "metadata": {},
   "outputs": [
    {
     "name": "stdout",
     "output_type": "stream",
     "text": [
      "Volumen de reservas minimas necesarias para desarrollar un nuevo pozo: 111.11111111111111\n",
      "\n",
      "REGION 0: unidades por arriba del volumen de reservas minimas necesarias  = 36583\n",
      "REGION 0 porcentaje = [0.36583]\n",
      "valor maximo= 185.3643474222929\n"
     ]
    },
    {
     "data": {
      "image/png": "[encoded data removed]",
      "text/plain": [
       "<Figure size 640x480 with 1 Axes>"
      ]
     },
     "metadata": {},
     "output_type": "display_data"
    },
    {
     "name": "stdout",
     "output_type": "stream",
     "text": [
      "\n",
      "REGION 1: unidades por arriba del volumen de reservas minimas necesarias  = 16537\n",
      "REGION 1 porcentaje = [0.16537]\n",
      "valor maximo= 137.94540774090564\n"
     ]
    },
    {
     "data": {
      "image/png": "[encoded data removed]",
      "text/plain": [
       "<Figure size 640x480 with 1 Axes>"
      ]
     },
     "metadata": {},
     "output_type": "display_data"
    },
    {
     "name": "stdout",
     "output_type": "stream",
     "text": [
      "\n",
      "REGION 2: unidades por arriba del volumen de reservas minimas necesarias = 38178\n",
      "REGION 2 porcentaje = [0.38178]\n",
      "valor maximo= 190.0298383433513\n"
     ]
    },
    {
     "data": {
      "image/png": "[encoded data removed]",
      "text/plain": [
       "<Figure size 640x480 with 1 Axes>"
      ]
     },
     "metadata": {},
     "output_type": "display_data"
    }
   ],
   "source": [
    "print('Volumen de reservas minimas necesarias para desarrollar un nuevo pozo:', vol_reserv_min )\n",
    "print()\n",
    "#REGION 0\n",
    "affordable_Region_0=(product_0 >= 111.111).sum()\n",
    "print('REGION 0: unidades por arriba del volumen de reservas minimas necesarias  =', affordable_Region_0)\n",
    "print('REGION 0 porcentaje =',affordable_Region_0/product_0.shape )   \n",
    "print('valor maximo=',product_0.max())\n",
    "product_0.hist()\n",
    "plt.show()\n",
    "print()    \n",
    "#REGION 1\n",
    "affordable_Region_1=(product_1 >= 111.111).sum()\n",
    "print('REGION 1: unidades por arriba del volumen de reservas minimas necesarias  =', affordable_Region_1)\n",
    "print('REGION 1 porcentaje =',affordable_Region_1/product_1.shape ) \n",
    "print('valor maximo=',product_1.max()) \n",
    "product_1.hist()\n",
    "plt.show()\n",
    "print()\n",
    "#REGION 2\n",
    "affordable_Region_2=(product_2 >= 111.111).sum()\n",
    "print('REGION 2: unidades por arriba del volumen de reservas minimas necesarias =', affordable_Region_2)\n",
    "print('REGION 2 porcentaje =',affordable_Region_2/product_2.shape )  \n",
    "print('valor maximo=',product_2.max())\n",
    "\n",
    "product_2.hist() \n",
    "plt.show()                           "
   ]
  },
  {
   "cell_type": "code",
   "execution_count": 13,
   "metadata": {},
   "outputs": [
    {
     "data": {
      "text/plain": [
       "count    100000.000000\n",
       "mean         95.000000\n",
       "std          44.749921\n",
       "min           0.000000\n",
       "25%          59.450441\n",
       "50%          94.925613\n",
       "75%         130.595027\n",
       "max         190.029838\n",
       "Name: product, dtype: float64"
      ]
     },
     "execution_count": 13,
     "metadata": {},
     "output_type": "execute_result"
    }
   ],
   "source": [
    "product_2.describe()"
   ]
  },
  {
   "attachments": {},
   "cell_type": "markdown",
   "metadata": {},
   "source": [
    "### Conclusion intermedia\n",
    "\n",
    "Se obtiene el Volumen Total de Reservas Minimas Necesarias (VTRM) \n",
    "para desarrollar un nuevo pozo es de: 111.11111111111111\n",
    "\n",
    "REGION 0 \n",
    "- Producto promedio = 92.50000000000001\n",
    "- Desviacion estandar = 44.28\n",
    "- Unidades por arriba del VTRMn = 36,583\n",
    "- valor maximo= 185.3643474222929\n",
    "\n",
    "REGION 1 \n",
    "- Producto promedio = 68.82500000000002\n",
    "- Desviacion estandar =  45.94\n",
    "- Unidades por arriba del VTRMn = 16,537\n",
    "- valor maximo= 137.94540774090564\n",
    "\n",
    "REGION 2 \n",
    "- Producto promedio = 95.00000000000004\n",
    "- Desviacion estandar =  44.749921\n",
    "- Unidades por arriba del VTRMn = 38178\n",
    "- valor maximo= 190.0298383433513\n",
    " \n",
    "\n",
    "Las gráficas de las REGION 0 y 2  son muy parecidas y eso se confirma ya que tanto el producto promedio como la desviacion y los valores maximos son muy parecidos.\n",
    " \n",
    "Al ver la distribución de los valores de la REGION 1, podemos entender porque el modelo presenta RECM: 0.8958669435956541, su distribucion es muy pareja.\n",
    " "
   ]
  },
  {
   "attachments": {},
   "cell_type": "markdown",
   "metadata": {},
   "source": [
    "## 4. Cálculo de ganancias"
   ]
  },
  {
   "cell_type": "code",
   "execution_count": 14,
   "metadata": {},
   "outputs": [],
   "source": [
    "def revenue(target, products, count):\n",
    "    products_sorted = products.sort_values(ascending=False) \n",
    "    selected = target[products_sorted.index][:count] \n",
    "    return 4500 *sum(selected)-100000000 # gananicas - costo (100 millones para los mejores 200 pozos)"
   ]
  },
  {
   "cell_type": "code",
   "execution_count": 15,
   "metadata": {},
   "outputs": [
    {
     "name": "stdout",
     "output_type": "stream",
     "text": [
      "Región 0\n",
      "Ganancia promedio: 4238972.379169059\n",
      "Riesgo de pérdida: 0.048\n",
      "Rango de confianza desde -761878.1389035935 hasta 9578465.319517836\n",
      "\n"
     ]
    },
    {
     "data": {
      "image/png": "[encoded data removed]",
      "text/plain": [
       "<Figure size 640x480 with 1 Axes>"
      ]
     },
     "metadata": {},
     "output_type": "display_data"
    },
    {
     "name": "stdout",
     "output_type": "stream",
     "text": [
      "Región 1\n",
      "Ganancia promedio: 5132566.989172833\n",
      "Riesgo de pérdida: 0.006\n",
      "Rango de confianza desde 1080668.9523397365 hasta 9285744.392325265\n",
      "\n"
     ]
    },
    {
     "data": {
      "image/png": "[encoded data removed]",
      "text/plain": [
       "<Figure size 640x480 with 1 Axes>"
      ]
     },
     "metadata": {},
     "output_type": "display_data"
    },
    {
     "name": "stdout",
     "output_type": "stream",
     "text": [
      "Región 2\n",
      "Ganancia promedio: 3811203.595759012\n",
      "Riesgo de pérdida: 0.074\n",
      "Rango de confianza desde -1428006.300878744 hasta 8933805.657504013\n",
      "\n"
     ]
    },
    {
     "data": {
      "image/png": "[encoded data removed]",
      "text/plain": [
       "<Figure size 640x480 with 1 Axes>"
      ]
     },
     "metadata": {},
     "output_type": "display_data"
    },
    {
     "data": {
      "image/png": "[encoded data removed]",
      "text/plain": [
       "<Figure size 640x480 with 1 Axes>"
      ]
     },
     "metadata": {},
     "output_type": "display_data"
    }
   ],
   "source": [
    "#Técnica bootstrapping con 1000 muestras para encontrar la distribución de las ganancias\n",
    "bootstrap_samples = 1000 \n",
    "n = 0 \n",
    "mean_profits = []  # Lista para almacenar las ganancias promedio de cada región\n",
    "\n",
    "for tar, pred in zip( targets, predictions):\n",
    "    profits = []\n",
    "    for i in range(bootstrap_samples):\n",
    "        # submuestreo Objetivo con reemplazo = el tamaño de estudio de 500 puntos\n",
    "        target_subsample = pd.Series(tar).sample(n=500, replace=True, random_state= state)\n",
    "        # Se hacen las predicciones con el muestreo objetivo de los 500 puntos\n",
    "        pred_subsample = pred[target_subsample.index]\n",
    "        \n",
    "        # Se calculan las ganancias con la seleccion de los 200 mejores puntos del submuetreo y las predicciones\n",
    "        profits.append(revenue(target_subsample, pred_subsample, 200))\n",
    "    # Transformar la lista de profits en una serie\n",
    "    profits = pd.Series(profits)\n",
    "    # Calcular la media\n",
    "    mean = profits.mean()\n",
    "    # Obtener intervalos de confianza\n",
    "    lower = profits.quantile(0.025)\n",
    "    upper = profits.quantile(0.975)\n",
    "    # Calcular la media de los datos negativos de la serie\n",
    "    loss = (profits < 0).mean()\n",
    "    \n",
    "    print('Región', n)\n",
    "    print('Ganancia promedio:', mean)\n",
    "    print('Riesgo de pérdida:', loss)\n",
    "    print('Rango de confianza desde', lower, 'hasta', upper)\n",
    "    print()\n",
    "    \n",
    "    # Graficar las ganancias de cada pozo\n",
    "    fig, ax = plt.subplots()\n",
    "    ax.bar(range(len(profits)), profits)\n",
    "    ax.set_xlabel('Pozo')\n",
    "    ax.set_ylabel('Ganancia')\n",
    "    ax.set_title('Ganancias de cada pozo - Región {}'.format(n))\n",
    "    plt.show()\n",
    "    \n",
    "    mean_profits.append(mean)\n",
    "    \n",
    "    n += 1\n",
    "\n",
    "# Comparación final de ganancia por región\n",
    "fig, ax = plt.subplots()\n",
    "regions = np.arange(len(mean_profits))\n",
    "ax.bar(regions, mean_profits)\n",
    "ax.set_xlabel('Región')\n",
    "ax.set_ylabel('Ganancia promedio')\n",
    "ax.set_title('Ganancia promedio: COMPARACION por regiones')\n",
    "ax.set_xticks(regions)\n",
    "plt.show()"
   ]
  },
  {
   "attachments": {},
   "cell_type": "markdown",
   "metadata": {},
   "source": [
    "## Conclusion Intermedia\n",
    "Se identifica que la Region 1 es la mejor opcion para el desarrollo de pozo.\n",
    " \n",
    "\n",
    "Región 0\n",
    "- Ganancia promedio: 4,250,638.562352966\n",
    "- Riesgo de pérdida: 0.062\n",
    "- Rango de confianza desde -1202243.16217706 hasta 9825548.633446794\n",
    "\n",
    "Región 1\n",
    "- Ganancia promedio: 5,163,314.232693729\n",
    "- Riesgo de pérdida: 0.005\n",
    "- Rango de confianza desde 1171216.3594474369 hasta 9600024.599272326\n",
    "\n",
    "Región 2\n",
    "- Ganancia promedio: 3,646,019.9108492346\n",
    "- Riesgo de pérdida: 0.097\n",
    "- Rango de confianza desde -1619638.6069313772 hasta 9295097.313283792"
   ]
  },
  {
   "attachments": {},
   "cell_type": "markdown",
   "metadata": {},
   "source": [
    "## Conclusion\n",
    "\n",
    "El procedimiento constó en identificar las tres características significativas de los puntos f0, f1, f2, y prepararlas para el modelo.\n",
    "Al aplicar el modelo de regresion lineal, obtuvimos la correcta prediccion de los productos promedios de reservas para las tres regiones.\n",
    "El modelo obtuvo el menor valor de error de prediccion de =0.889736773768065 en la region 1.\n",
    "\n",
    "El valor de volumen de reservas minimas necesarias para un nuevo pozo  a considerar es de 111.11 volumenes\n",
    "REGION 0 \n",
    "- Producto promedio = 92.50000000000001\n",
    "- Desviacion estandar = 44.28\n",
    "- Unidades por arriba del VTRMn = 36,583\n",
    "- valor maximo= 185.3643474222929\n",
    "\n",
    "REGION 1 \n",
    "- Producto promedio = 68.82500000000002\n",
    "- Desviacion estandar =  45.94\n",
    "- Unidades por arriba del VTRMn = 16,537\n",
    "- valor maximo= 137.94540774090564\n",
    "\n",
    "REGION 2 \n",
    "- Producto promedio = 95.00000000000004\n",
    "- Desviacion estandar =  44.749921\n",
    "- Unidades por arriba del VTRMn = 38178\n",
    "- valor maximo= 190.0298383433513\n",
    "\n",
    "El producto promedio de cada region no sobrepasa los 111.11 volumenes requeridnos.\n",
    "La Region 0 y 2 sobrepasan en un 36% y 38% respectivamente.\n",
    "La Region 1 en un 16% \n",
    "\n",
    "Ahora haciendo un muestreo de 1000 para encontrar la region con la distribucion más rentable.\n",
    "Considerando un submuestreo con reemplazo de 500 pozos para las 3 regiones para obtener de cada una de ellas los mejores 200 puntos y un intervalo de confianza del 95%\n",
    "\n",
    "La REGION 1 es la region más redituable, y con el menor riesgo de pérdida.\n",
    "Región 1\n",
    "- Ganancia promedio: 5,163,314.232693729\n",
    "- Riesgo de pérdida: 0.005\n",
    "- Rango de confianza desde 1171216.3594474369 hasta 9600024.599272326\n",
    "\n",
    "Por lo anterior se recomienda a Oil Giant la Region 1 para su nuevo pozo.\n",
    "\n"
   ]
  }
 ],
 "metadata": {
  "kernelspec": {
   "display_name": "Python 3",
   "language": "python",
   "name": "python3"
  },
  "language_info": {
   "codemirror_mode": {
    "name": "ipython",
    "version": 3
   },
   "file_extension": ".py",
   "mimetype": "text/x-python",
   "name": "python",
   "nbconvert_exporter": "python",
   "pygments_lexer": "ipython3",
   "version": "3.11.1"
  },
  "orig_nbformat": 4
 },
 "nbformat": 4,
 "nbformat_minor": 2
}
